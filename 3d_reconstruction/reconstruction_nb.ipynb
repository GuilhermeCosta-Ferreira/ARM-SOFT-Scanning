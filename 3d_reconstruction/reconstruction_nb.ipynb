{
 "cells": [
  {
   "cell_type": "markdown",
   "id": "9053373f",
   "metadata": {},
   "source": [
    "# 3D Reconstruction\n",
    "Now that we have the silhuettes we can now extract the visual hull of the object. Do so we need the camera intrinsic parameters and the extrinsic paramters. Our simulation pipeline already provides us with a json file for that. A python script then can be ran to extract the camera intrinsics"
   ]
  },
  {
   "cell_type": "code",
   "execution_count": null,
   "id": "bfe259a3",
   "metadata": {},
   "outputs": [],
   "source": [
    "from src.camera_data import CamerasData"
   ]
  },
  {
   "cell_type": "markdown",
   "id": "d7871d43",
   "metadata": {},
   "source": [
    "## Camera Data\n",
    "For the reconstruction we need:\n",
    "- Camera Intrinsics\n",
    "- Extrinsics Parameters\n",
    "\n",
    "The camera intrinsics are defined by the matrix K and the extrinsics are defined by the individual camera positions (4x4 matrix). All of this is managed by the class ```CameraData```"
   ]
  },
  {
   "cell_type": "code",
   "execution_count": 2,
   "id": "98bc07d7",
   "metadata": {},
   "outputs": [],
   "source": [
    "camera_data = CamerasData(\"../blender_simulator/simulated_frames/dataset_d30/camera_intrinsics.json\", \"../blender_simulator/simulated_frames/dataset_d30/transforms_train.json\")"
   ]
  },
  {
   "cell_type": "code",
   "execution_count": 3,
   "id": "4eacbd19",
   "metadata": {},
   "outputs": [
    {
     "data": {
      "text/plain": [
       "(12, 4, 4)"
      ]
     },
     "execution_count": 3,
     "metadata": {},
     "output_type": "execute_result"
    }
   ],
   "source": [
    "camera_data.extrinsics_array.shape"
   ]
  },
  {
   "cell_type": "code",
   "execution_count": 7,
   "id": "92c0a704",
   "metadata": {},
   "outputs": [
    {
     "name": "stdout",
     "output_type": "stream",
     "text": [
      "[[2.66666667e+03 0.00000000e+00 9.60000000e+02]\n",
      " [0.00000000e+00 2.25000000e+03 5.40000000e+02]\n",
      " [0.00000000e+00 0.00000000e+00 1.00000000e+00]]\n",
      "[[ 9.99992847e-01  5.45056282e-05  3.79700959e-03  0.00000000e+00]\n",
      " [ 3.79740074e-03 -1.43533014e-02 -9.99889851e-01 -1.00000000e+00]\n",
      " [-3.63797881e-12  9.99897003e-01 -1.43534066e-02  0.00000000e+00]\n",
      " [ 0.00000000e+00  0.00000000e+00  0.00000000e+00  1.00000000e+00]]\n"
     ]
    }
   ],
   "source": [
    "print(camera_data.K)\n",
    "print(camera_data.get_camera_extrinsics(0))"
   ]
  }
 ],
 "metadata": {
  "kernelspec": {
   "display_name": "3d-reconstruction-py3.13",
   "language": "python",
   "name": "python3"
  },
  "language_info": {
   "codemirror_mode": {
    "name": "ipython",
    "version": 3
   },
   "file_extension": ".py",
   "mimetype": "text/x-python",
   "name": "python",
   "nbconvert_exporter": "python",
   "pygments_lexer": "ipython3",
   "version": "3.13.7"
  }
 },
 "nbformat": 4,
 "nbformat_minor": 5
}
