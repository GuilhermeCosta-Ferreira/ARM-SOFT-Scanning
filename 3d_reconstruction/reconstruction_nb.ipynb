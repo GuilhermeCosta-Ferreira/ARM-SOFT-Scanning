{
 "cells": [
  {
   "cell_type": "markdown",
   "id": "9053373f",
   "metadata": {},
   "source": [
    "# 3D Reconstruction\n",
    "Now that we have the silhuettes we can now extract the visual hull of the object. Do so we need the camera intrinsic parameters and the extrinsic paramters. Our simulation pipeline already provides us with a json file for that. A python script then can be ran to extract the camera intrinsics"
   ]
  },
  {
   "cell_type": "code",
   "execution_count": 1,
   "id": "bfe259a3",
   "metadata": {},
   "outputs": [],
   "source": [
    "import numpy as np\n",
    "import matplotlib.pyplot as plt\n",
    "\n",
    "from src.camera_data import CamerasData\n",
    "from src.scans import Scans\n",
    "from src.convex_hull import project_scan"
   ]
  },
  {
   "cell_type": "markdown",
   "id": "1b5ecaf9",
   "metadata": {},
   "source": [
    "## 1. Data Classes\n",
    "To do the reconstruction we need to organize our data into clear but usefull classes. This will include our Camera Data (`CameraData`) and our Pictures (`Scans`)"
   ]
  },
  {
   "cell_type": "markdown",
   "id": "d7871d43",
   "metadata": {},
   "source": [
    "### 1.1. Camera Data\n",
    "For the reconstruction we need:\n",
    "- Camera Intrinsics\n",
    "- Extrinsics Parameters\n",
    "\n",
    "The camera intrinsics are defined by the matrix K and the extrinsics are defined by the individual camera positions (4x4 matrix). All of this is managed by the class ```CameraData```"
   ]
  },
  {
   "cell_type": "code",
   "execution_count": 2,
   "id": "98bc07d7",
   "metadata": {},
   "outputs": [],
   "source": [
    "camera_data = CamerasData(\"../blender_simulator/simulated_frames/dataset_d30/camera_intrinsics.json\", \"../blender_simulator/simulated_frames/dataset_d30/transforms_train.json\")"
   ]
  },
  {
   "cell_type": "code",
   "execution_count": 3,
   "id": "4eacbd19",
   "metadata": {},
   "outputs": [
    {
     "name": "stdout",
     "output_type": "stream",
     "text": [
      "K Matrix:\n",
      "[[2.66666667e+03 0.00000000e+00 9.60000000e+02]\n",
      " [0.00000000e+00 2.25000000e+03 5.40000000e+02]\n",
      " [0.00000000e+00 0.00000000e+00 1.00000000e+00]]\n",
      "\n",
      "Extrinsic Matrix of Camera 0\n",
      "[[ 9.99992847e-01  3.79740074e-03 -3.63797881e-12  3.79740074e-03]\n",
      " [ 5.45056282e-05 -1.43533014e-02  9.99897003e-01 -1.43533014e-02]\n",
      " [ 3.79700959e-03 -9.99889851e-01 -1.43534066e-02 -9.99889851e-01]\n",
      " [ 0.00000000e+00  0.00000000e+00  0.00000000e+00  1.00000000e+00]]\n",
      "\n",
      "With shape: (12, 4, 4)\n"
     ]
    }
   ],
   "source": [
    "print(f\"K Matrix:\\n{camera_data.K}\\n\")\n",
    "print(f'Extrinsic Matrix of Camera 0\\n{camera_data.get_camera_extrinsics(0)}\\n')\n",
    "print(f'With shape: {camera_data.extrinsics_array.shape}')"
   ]
  },
  {
   "cell_type": "markdown",
   "id": "3e46c723",
   "metadata": {},
   "source": [
    "**Projection Matrix**<br>\n",
    "By combining both matrices we can have the projection matrix"
   ]
  },
  {
   "cell_type": "code",
   "execution_count": 4,
   "id": "30295bca",
   "metadata": {},
   "outputs": [
    {
     "name": "stdout",
     "output_type": "stream",
     "text": [
      "Projection Matyrix of Camera 0\n",
      "[[ 2.67029272e+03 -9.49767855e+02 -1.37792704e+01 -9.49767855e+02]\n",
      " [ 2.17302284e+00 -5.72235447e+02  2.24201742e+03 -5.72235447e+02]\n",
      " [ 3.79700959e-03 -9.99889851e-01 -1.43534066e-02 -9.99889851e-01]]\n",
      "\n",
      "With shape: (3, 4)\n"
     ]
    }
   ],
   "source": [
    "P = camera_data.P(0)\n",
    "\n",
    "print(f'Projection Matyrix of Camera 0\\n{P}\\n')\n",
    "print(f'With shape: {P.shape}')"
   ]
  },
  {
   "cell_type": "markdown",
   "id": "8af00fd5",
   "metadata": {},
   "source": [
    "### 1.2 Scans\n",
    "Scans should have all the segemntations from the pictures taken. It holds the data as a binary array [0 or 1]"
   ]
  },
  {
   "cell_type": "code",
   "execution_count": 5,
   "id": "7e3ea7cc",
   "metadata": {},
   "outputs": [],
   "source": [
    "scans = Scans(\"../3d_reconstruction/figures/reconstruction_d30/segmented\")"
   ]
  },
  {
   "cell_type": "code",
   "execution_count": 6,
   "id": "8545879f",
   "metadata": {},
   "outputs": [
    {
     "name": "stdout",
     "output_type": "stream",
     "text": [
      "Number of scans: 12\n",
      "Dimension of each scan: (1080, 1920)\n",
      "Values in the first scan: [0 1]\n"
     ]
    },
    {
     "data": {
      "text/plain": [
       "<matplotlib.image.AxesImage at 0x2837ff8c0>"
      ]
     },
     "execution_count": 6,
     "metadata": {},
     "output_type": "execute_result"
    },
    {
     "data": {
      "image/png": "[encoded data removed]",
      "text/plain": [
       "<Figure size 640x480 with 1 Axes>"
      ]
     },
     "metadata": {},
     "output_type": "display_data"
    }
   ],
   "source": [
    "print(f\"Number of scans: {scans.nr_positions}\")\n",
    "print(f\"Dimension of each scan: {scans.scan_shape}\")\n",
    "print(f\"Values in the first scan: {np.unique(scans.scan(0))}\")\n",
    "\n",
    "plt.imshow(scans.scan(0), cmap='gray')"
   ]
  },
  {
   "cell_type": "markdown",
   "id": "9f74f158",
   "metadata": {},
   "source": [
    "## 2. Convex Hull\n",
    "This will take the data and apply the convex hull algorithm"
   ]
  },
  {
   "cell_type": "code",
   "execution_count": 7,
   "id": "809e03a5",
   "metadata": {},
   "outputs": [],
   "source": [
    "example_camera = 1"
   ]
  },
  {
   "cell_type": "markdown",
   "id": "99330439",
   "metadata": {},
   "source": [
    "### 2.1. Projecting Single Point\n",
    "Before we compute any reconstruction we should just test projecting some points (like origin) to check if the matrices are ok. In this process it was found that the `transformation_matrix` produced by **BlenderNeRF** was not world to camera but rather camera to world. This is fixed now when the camera data is initialized  "
   ]
  },
  {
   "cell_type": "code",
   "execution_count": 8,
   "id": "33161d45",
   "metadata": {},
   "outputs": [
    {
     "name": "stdout",
     "output_type": "stream",
     "text": [
      "Projecting 3D Point: [0 0 0]\n",
      "\n",
      "Projection Coordinates X1 : -986.0, X2 : -572.0, X3 : -1.0\n",
      "Image Coordinates (np.float64(986.0), np.float64(572.0))\n"
     ]
    },
    {
     "data": {
      "text/plain": [
       "<matplotlib.collections.PathCollection at 0x2848902f0>"
      ]
     },
     "execution_count": 8,
     "metadata": {},
     "output_type": "execute_result"
    },
    {
     "data": {
      "image/png": "[encoded data removed]",
      "text/plain": [
       "<Figure size 640x480 with 1 Axes>"
      ]
     },
     "metadata": {},
     "output_type": "display_data"
    }
   ],
   "source": [
    "P = camera_data.P(example_camera)\n",
    "point_3d = np.array([0,0,0,1])\n",
    "print(f\"Projecting 3D Point: {point_3d[:3]}\\n\")\n",
    "\n",
    "# Projecting\n",
    "x1, x2, x3 = P @ point_3d\n",
    "print(f\"Projection Coordinates X1 : {np.round(x1)}, X2 : {np.round(x2)}, X3 : {np.round(x3)}\")\n",
    "print(f\"Image Coordinates {np.round(x1/x3), np.round(x2/x3)}\")\n",
    "\n",
    "# Plotting\n",
    "plt.imshow(scans.scan(example_camera))\n",
    "plt.scatter(x1//x3, x2/x3, color='red')"
   ]
  },
  {
   "cell_type": "markdown",
   "id": "27c31ed6",
   "metadata": {},
   "source": [
    "### 2.2. Obtaining Single Convex Hull\n",
    "Let's see if we can map a grid of points in other to build the first building block in the reconstruction pipeline"
   ]
  },
  {
   "cell_type": "code",
   "execution_count": 10,
   "id": "8c66acab",
   "metadata": {},
   "outputs": [
    {
     "name": "stderr",
     "output_type": "stream",
     "text": [
      "🔄 Processing Slices: 100%|██████████| 200/200 [00:13<00:00, 15.28it/s]"
     ]
    },
    {
     "name": "stdout",
     "output_type": "stream",
     "text": [
      "Voxel Size: 0.005 m with Volume: 126.894 mm³ per Voxel\n"
     ]
    },
    {
     "name": "stderr",
     "output_type": "stream",
     "text": [
      "\n"
     ]
    },
    {
     "data": {
      "text/plain": [
       "<matplotlib.image.AxesImage at 0x2858cdf90>"
      ]
     },
     "execution_count": 10,
     "metadata": {},
     "output_type": "execute_result"
    },
    {
     "data": {
      "image/png": "[encoded data removed]",
      "text/plain": [
       "<Figure size 640x480 with 1 Axes>"
      ]
     },
     "metadata": {},
     "output_type": "display_data"
    }
   ],
   "source": [
    "camera_volume, voxel_size = project_scan(camera_data, scans, example_camera, resolution=200, reconstruction_range=0.5)\n",
    "\n",
    "print(f\"Voxel Size: {np.round(voxel_size,3)} m with Volume: {np.round(voxel_size**3 * 1e9, 3)} mm³ per Voxel\")\n",
    "\n",
    "plt.imshow(camera_volume[:, 0, :], cmap='gray')"
   ]
  }
 ],
 "metadata": {
  "kernelspec": {
   "display_name": "3d-reconstruction-py3.13",
   "language": "python",
   "name": "python3"
  },
  "language_info": {
   "codemirror_mode": {
    "name": "ipython",
    "version": 3
   },
   "file_extension": ".py",
   "mimetype": "text/x-python",
   "name": "python",
   "nbconvert_exporter": "python",
   "pygments_lexer": "ipython3",
   "version": "3.13.7"
  }
 },
 "nbformat": 4,
 "nbformat_minor": 5
}
