{
 "cells": [
  {
   "cell_type": "markdown",
   "id": "9053373f",
   "metadata": {},
   "source": [
    "# 3D Reconstruction\n",
    "Now that we have the silhuettes we can now extract the visual hull of the object. Do so we need the camera intrinsic parameters and the extrinsic paramters. Our simulation pipeline already provides us with a json file for that."
   ]
  },
  {
   "cell_type": "code",
   "execution_count": 2,
   "id": "c63701ac",
   "metadata": {},
   "outputs": [],
   "source": [
    "import json\n",
    "\n",
    "import numpy as np\n",
    "\n",
    "from functools import singledispatchmethod"
   ]
  },
  {
   "cell_type": "code",
   "execution_count": 27,
   "id": "fcf5ce6a",
   "metadata": {},
   "outputs": [],
   "source": [
    "class ExtrinsicParameters:\n",
    "    @singledispatchmethod\n",
    "    def __init__(self, data) -> None:\n",
    "        raise TypeError(f\"Unsupported init type: {type(data)!r}\")\n",
    "    \n",
    "    @__init__.register\n",
    "    def _(self, matrix: np.ndarray, position: int) -> None:\n",
    "        self.matrix = matrix\n",
    "        self.position = position\n",
    "\n",
    "    @__init__.register\n",
    "    def _(self, matrix: np.ndarray) -> None:\n",
    "        self.matrix = matrix\n",
    "        self.position = None\n",
    "\n",
    "    @__init__.register\n",
    "    def _(self, matrix: list) -> None:\n",
    "        self.matrix = np.array(matrix)\n",
    "        self.position = None\n",
    "\n",
    "    \n",
    "    @property\n",
    "    def matrix(self) -> np.ndarray:\n",
    "        return self._matrix\n",
    "    \n",
    "    @matrix.setter\n",
    "    def matrix(self, value: np.ndarray) -> None:\n",
    "        if value.shape != (4, 4):\n",
    "            raise ValueError(\"Extrinsic matrix must be of shape (4, 4)\")\n",
    "        self._matrix = value\n",
    "\n",
    "\n",
    "    @property\n",
    "    def position(self) -> int:\n",
    "        return self._position\n",
    "    \n",
    "    @position.setter\n",
    "    def position(self, value: int | None) -> None:\n",
    "        if isinstance(value, None):\n",
    "            print(\"⚠️ Warning: No camera position was defined, position is set to None\")\n",
    "            self._position = value\n",
    "            return\n",
    "        elif not isinstance(value, int):\n",
    "            raise TypeError(\"Position must be an integer\")\n",
    "        self._position = value\n",
    "    "
   ]
  },
  {
   "cell_type": "code",
   "execution_count": null,
   "id": "dbd9d655",
   "metadata": {},
   "outputs": [],
   "source": [
    "class ExtrinsicGroup:\n",
    "    @singledispatchmethod\n",
    "    def __init__(self, data) -> None:\n",
    "        raise TypeError(f\"Unsupported init type: {type(data)!r}\")\n",
    "    \n",
    "    @__init__.register\n",
    "    def _(self, extrinsics: np.ndarray[ExtrinsicParameters]) -> None:\n",
    "        self.extrinsics = extrinsics\n",
    "\n",
    "    @__init__.register\n",
    "    def _(self, extrinsics: list[ExtrinsicParameters]) -> None:\n",
    "        self.extrinsics = np.array(extrinsics)\n",
    "\n",
    "    @property\n",
    "    def extrinsics(self) -> np.ndarray[ExtrinsicParameters]:\n",
    "        return self._extrinsics\n",
    "    \n",
    "    @extrinsics.setter\n",
    "    def extrinsics(self, value: np.ndarray[ExtrinsicParameters]) -> None:\n",
    "        if value.ndim != 1:\n",
    "            raise ValueError(\"Extrinsics must be a 1D array of ExtrinsicParameters\")\n",
    "        for ext in value:\n",
    "            if not isinstance(ext, ExtrinsicParameters):\n",
    "                raise TypeError(\"All elements must be of type ExtrinsicParameters\")\n",
    "        self._extrinsics = value"
   ]
  },
  {
   "cell_type": "code",
   "execution_count": 24,
   "id": "7817a3a8",
   "metadata": {},
   "outputs": [],
   "source": [
    "class IntrinsicParameters:\n",
    "    @singledispatchmethod\n",
    "    def __init__(self, data) -> None:\n",
    "        raise TypeError(f\"Unsupported init type: {type(data)!r}\")\n",
    "    \n",
    "    @__init__.register\n",
    "    def _(self, matrix: np.ndarray) -> None:\n",
    "        self.matrix = np.round(matrix, 3)\n",
    "\n",
    "    @__init__.register\n",
    "    def _(self, matrix: list) -> None:\n",
    "        self.matrix = np.array(matrix)\n",
    "\n",
    "    @__init__.register\n",
    "    def _(self, json_path: str) -> None:\n",
    "        with open(json_path, 'r') as f:\n",
    "            data = json.load(f)\n",
    "        self.matrix = np.array(data['K'])\n",
    "\n",
    "    \n",
    "    @property\n",
    "    def matrix(self) -> np.ndarray:\n",
    "        return self._matrix\n",
    "    \n",
    "    @matrix.setter\n",
    "    def matrix(self, value: np.ndarray) -> None:\n",
    "        if value.shape != (3, 3):\n",
    "            raise ValueError(\"Intrinsic matrix must be of shape (3, 3)\")\n",
    "        self._matrix = value"
   ]
  },
  {
   "cell_type": "code",
   "execution_count": 25,
   "id": "df632106",
   "metadata": {},
   "outputs": [
    {
     "data": {
      "text/plain": [
       "array([[2.66666667e+03, 0.00000000e+00, 9.60000000e+02],\n",
       "       [0.00000000e+00, 2.25000000e+03, 5.40000000e+02],\n",
       "       [0.00000000e+00, 0.00000000e+00, 1.00000000e+00]])"
      ]
     },
     "execution_count": 25,
     "metadata": {},
     "output_type": "execute_result"
    }
   ],
   "source": [
    "IntrinsicParameters(\"../blender_simulator/simulated_frames/dataset_d30/camera_intrinsics.json\").matrix"
   ]
  },
  {
   "cell_type": "code",
   "execution_count": null,
   "id": "6f3b68be",
   "metadata": {},
   "outputs": [],
   "source": [
    "class CamerasData:\n",
    "    @singledispatchmethod\n",
    "    def __init__(self, data) -> None:\n",
    "        raise TypeError(f\"Unsupported init type: {type(data)!r}\")\n",
    "    \n",
    "    @__init__.register\n",
    "    def _(self, intrinisc: IntrinsicParameters, *extrinsics) -> None:\n",
    "        self.intrinisc = intrinisc\n",
    "        self.extrinsics = extrinsics\n",
    "\n",
    "    @__init__.register\n",
    "    def _(self, intrinisc_path: str, extrinsics_path: str) -> None:\n",
    "        self.intrinisc = IntrinsicParameters(intrinisc_path)\n",
    "        \n",
    "        with open(extrinsics_path, 'r') as f:\n",
    "            extrinsics_data = json.load(f)\n",
    "        extrinsics = []\n",
    "        for ext in extrinsics_data:\n",
    "            extrinsics.append(ExtrinisicParameters(ext['matrix'], ext.get('position', None)))\n",
    "        \n",
    "        self.intrinisc = intrinisc\n",
    "        self.extrinsics = extrinsics"
   ]
  },
  {
   "cell_type": "code",
   "execution_count": 55,
   "id": "98bc07d7",
   "metadata": {},
   "outputs": [],
   "source": [
    "camera_data = CamerasData(\"../blender_simulator/simulated_frames/dataset_d30/transforms_train.json\", \"../blender_simulator/simulated_frames/dataset_d30/transforms_train.json\")"
   ]
  },
  {
   "cell_type": "code",
   "execution_count": null,
   "id": "7e47c312",
   "metadata": {},
   "outputs": [],
   "source": []
  },
  {
   "cell_type": "code",
   "execution_count": null,
   "id": "df422486",
   "metadata": {},
   "outputs": [],
   "source": [
    "trf_mt = camera_data.extract_extrinsic_matrices()"
   ]
  },
  {
   "cell_type": "code",
   "execution_count": 52,
   "id": "b91ecb4d",
   "metadata": {},
   "outputs": [
    {
     "data": {
      "text/plain": [
       "12"
      ]
     },
     "execution_count": 52,
     "metadata": {},
     "output_type": "execute_result"
    }
   ],
   "source": [
    "len(trf_mt)"
   ]
  },
  {
   "cell_type": "code",
   "execution_count": 53,
   "id": "5b4a04d1",
   "metadata": {},
   "outputs": [
    {
     "data": {
      "text/plain": [
       "array([[ 9.99992847e-01,  5.45056282e-05,  3.79700959e-03,\n",
       "         0.00000000e+00],\n",
       "       [ 3.79740074e-03, -1.43533014e-02, -9.99889851e-01,\n",
       "        -1.00000000e+00],\n",
       "       [-3.63797881e-12,  9.99897003e-01, -1.43534066e-02,\n",
       "         0.00000000e+00],\n",
       "       [ 0.00000000e+00,  0.00000000e+00,  0.00000000e+00,\n",
       "         1.00000000e+00]])"
      ]
     },
     "execution_count": 53,
     "metadata": {},
     "output_type": "execute_result"
    }
   ],
   "source": [
    "trf_mt[0]"
   ]
  },
  {
   "cell_type": "code",
   "execution_count": null,
   "id": "f7adf860",
   "metadata": {},
   "outputs": [
    {
     "data": {
      "text/plain": [
       "[array([[ 9.99992847e-01,  5.45056282e-05,  3.79700959e-03,\n",
       "          0.00000000e+00],\n",
       "        [ 3.79740074e-03, -1.43533014e-02, -9.99889851e-01,\n",
       "         -1.00000000e+00],\n",
       "        [-3.63797881e-12,  9.99897003e-01, -1.43534066e-02,\n",
       "          0.00000000e+00],\n",
       "        [ 0.00000000e+00,  0.00000000e+00,  0.00000000e+00,\n",
       "          1.00000000e+00]]),\n",
       " array([[ 8.61065686e-01, -7.28784548e-03, -5.08441567e-01,\n",
       "         -4.99882162e-01],\n",
       "        [-5.08493781e-01, -1.23409843e-02, -8.60977232e-01,\n",
       "         -8.65877032e-01],\n",
       "        [-4.65661287e-10,  9.99897361e-01, -1.43322209e-02,\n",
       "          0.00000000e+00],\n",
       "        [ 0.00000000e+00,  0.00000000e+00,  0.00000000e+00,\n",
       "          1.00000000e+00]]),\n",
       " array([[ 0.48193851, -0.01245331, -0.87611651, -0.86587703],\n",
       "        [-0.87620503, -0.00684969, -0.48188984, -0.49988216],\n",
       "        [ 0.        ,  0.99989909, -0.01421278,  0.        ],\n",
       "        [ 0.        ,  0.        ,  0.        ,  1.        ]]),\n",
       " array([[-2.57461872e-02, -1.40279029e-02, -9.99570131e-01,\n",
       "         -1.00000000e+00],\n",
       "        [-9.99668479e-01,  3.61284794e-04,  2.57436559e-02,\n",
       "          0.00000000e+00],\n",
       "        [ 0.00000000e+00,  9.99901533e-01, -1.40325557e-02,\n",
       "          0.00000000e+00],\n",
       "        [ 0.00000000e+00,  0.00000000e+00,  0.00000000e+00,\n",
       "          1.00000000e+00]]),\n",
       " array([[-5.20480335e-01, -1.18266791e-02, -8.53791773e-01,\n",
       "         -8.65877032e-01],\n",
       "        [-8.53873670e-01,  7.20897410e-03,  5.20430386e-01,\n",
       "          4.99882162e-01],\n",
       "        [-4.65661287e-10,  9.99904096e-01, -1.38506182e-02,\n",
       "          0.00000000e+00],\n",
       "        [ 0.00000000e+00,  0.00000000e+00,  0.00000000e+00,\n",
       "          1.00000000e+00]]),\n",
       " array([[-8.73789310e-01, -6.66574761e-03, -4.86259103e-01,\n",
       "         -4.99881983e-01],\n",
       "        [-4.86304790e-01,  1.19769722e-02,  8.73707235e-01,\n",
       "          8.65877151e-01],\n",
       "        [-4.65661287e-10,  9.99906063e-01, -1.37069356e-02,\n",
       "          0.00000000e+00],\n",
       "        [ 0.00000000e+00,  0.00000000e+00,  0.00000000e+00,\n",
       "          1.00000000e+00]]),\n",
       " array([[-9.99993503e-01,  4.91914470e-05,  3.60729732e-03,\n",
       "          2.38341755e-07],\n",
       "        [ 3.60763283e-03,  1.36352926e-02,  9.99900520e-01,\n",
       "          1.00000000e+00],\n",
       "        [ 0.00000000e+00,  9.99907076e-01, -1.36353802e-02,\n",
       "          0.00000000e+00],\n",
       "        [ 0.00000000e+00,  0.00000000e+00,  0.00000000e+00,\n",
       "          1.00000000e+00]]),\n",
       " array([[-8.70700896e-01,  6.71742717e-03,  4.91767138e-01,\n",
       "          4.99881983e-01],\n",
       "        [ 4.91813064e-01,  1.18924668e-02,  8.70619655e-01,\n",
       "          8.65877151e-01],\n",
       "        [-4.65661287e-10,  9.99906778e-01, -1.36584975e-02,\n",
       "          0.00000000e+00],\n",
       "        [ 0.00000000e+00,  0.00000000e+00,  0.00000000e+00,\n",
       "          1.00000000e+00]]),\n",
       " array([[-0.51723963,  0.01178013,  0.85575956,  0.86587715],\n",
       "        [ 0.85584074,  0.00711949,  0.51719058,  0.49988198],\n",
       "        [ 0.        ,  0.99990529, -0.0137644 ,  0.        ],\n",
       "        [ 0.        ,  0.        ,  0.        ,  1.        ]]),\n",
       " array([[-2.55564954e-02,  1.39246341e-02,  9.99576390e-01,\n",
       "          1.00000000e+00],\n",
       "        [ 9.99673426e-01,  3.55981116e-04,  2.55540144e-02,\n",
       "          0.00000000e+00],\n",
       "        [-2.91038305e-11,  9.99903023e-01, -1.39291836e-02,\n",
       "          0.00000000e+00],\n",
       "        [ 0.00000000e+00,  0.00000000e+00,  0.00000000e+00,\n",
       "          1.00000000e+00]]),\n",
       " array([[ 4.78780776e-01,  1.23961437e-02,  8.77847075e-01,\n",
       "          8.65876913e-01],\n",
       "        [ 8.77934575e-01, -6.76022470e-03, -4.78733063e-01,\n",
       "         -4.99882400e-01],\n",
       "        [-4.65661232e-10,  9.99900401e-01, -1.41196670e-02,\n",
       "          0.00000000e+00],\n",
       "        [ 0.00000000e+00,  0.00000000e+00,  0.00000000e+00,\n",
       "          1.00000000e+00]]),\n",
       " array([[ 0.85774016,  0.00733951,  0.51403105,  0.49988157],\n",
       "        [ 0.51408345, -0.01224585, -0.85765278, -0.86587739],\n",
       "        [ 0.        ,  0.99989808, -0.01427688,  0.        ],\n",
       "        [ 0.        ,  0.        ,  0.        ,  1.        ]])]"
      ]
     },
     "execution_count": 56,
     "metadata": {},
     "output_type": "execute_result"
    }
   ],
   "source": [
    "camera_data.extrinsic_matrices"
   ]
  },
  {
   "cell_type": "code",
   "execution_count": null,
   "id": "f36d2a68",
   "metadata": {},
   "outputs": [],
   "source": []
  }
 ],
 "metadata": {
  "kernelspec": {
   "display_name": "3d-reconstruction-py3.13",
   "language": "python",
   "name": "python3"
  },
  "language_info": {
   "codemirror_mode": {
    "name": "ipython",
    "version": 3
   },
   "file_extension": ".py",
   "mimetype": "text/x-python",
   "name": "python",
   "nbconvert_exporter": "python",
   "pygments_lexer": "ipython3",
   "version": "3.13.7"
  }
 },
 "nbformat": 4,
 "nbformat_minor": 5
}
