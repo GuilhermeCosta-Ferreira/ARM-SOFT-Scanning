{
 "cells": [
  {
   "cell_type": "markdown",
   "id": "9053373f",
   "metadata": {},
   "source": [
    "# 3D Reconstruction\n",
    "Now that we have the silhuettes we can now extract the visual hull of the object. Do so we need the camera intrinsic parameters and the extrinsic paramters. Our simulation pipeline already provides us with a json file for that. A python script then can be ran to extract the camera intrinsics"
   ]
  },
  {
   "cell_type": "code",
   "execution_count": 8,
   "id": "bfe259a3",
   "metadata": {},
   "outputs": [],
   "source": [
    "import numpy as np\n",
    "import matplotlib.pyplot as plt\n",
    "\n",
    "from src.camera_data import CamerasData\n",
    "from src.scans import Scans\n",
    "from src.mesh import build_mesh"
   ]
  },
  {
   "cell_type": "markdown",
   "id": "1b5ecaf9",
   "metadata": {},
   "source": [
    "## 1. Data Classes\n",
    "To do the reconstruction we need to organize our data into clear but usefull classes. This will include our Camera Data (`CameraData`) and our Pictures (`Scans`)"
   ]
  },
  {
   "cell_type": "markdown",
   "id": "d7871d43",
   "metadata": {},
   "source": [
    "### 1.1. Camera Data\n",
    "For the reconstruction we need:\n",
    "- Camera Intrinsics\n",
    "- Extrinsics Parameters\n",
    "\n",
    "The camera intrinsics are defined by the matrix K and the extrinsics are defined by the individual camera positions (4x4 matrix). All of this is managed by the class ```CameraData```"
   ]
  },
  {
   "cell_type": "code",
   "execution_count": 3,
   "id": "98bc07d7",
   "metadata": {},
   "outputs": [],
   "source": [
    "camera_data = CamerasData(\"../blender_simulator/simulated_frames/dataset_d30/camera_intrinsics.json\", \"../blender_simulator/simulated_frames/dataset_d30/transforms_train.json\")"
   ]
  },
  {
   "cell_type": "code",
   "execution_count": 4,
   "id": "4eacbd19",
   "metadata": {},
   "outputs": [
    {
     "name": "stdout",
     "output_type": "stream",
     "text": [
      "K Matrix:\n",
      "[[2.66666667e+03 0.00000000e+00 9.60000000e+02]\n",
      " [0.00000000e+00 2.25000000e+03 5.40000000e+02]\n",
      " [0.00000000e+00 0.00000000e+00 1.00000000e+00]]\n",
      "\n",
      "Extrinsic Matrix of Camera 0\n",
      "[[ 1.  0.  0.  0.]\n",
      " [ 0.  0. -1. -1.]\n",
      " [ 0.  1.  0.  0.]\n",
      " [ 0.  0.  0.  1.]]\n",
      "\n",
      "With shape: (12, 4, 4)\n"
     ]
    }
   ],
   "source": [
    "print(f\"K Matrix:\\n{camera_data.K}\\n\")\n",
    "print(f'Extrinsic Matrix of Camera 0\\n{camera_data.get_camera_extrinsics(0)}\\n')\n",
    "print(f'With shape: {camera_data.extrinsics_array.shape}')"
   ]
  },
  {
   "cell_type": "markdown",
   "id": "3e46c723",
   "metadata": {},
   "source": [
    "**Projection Matrix**<br>\n",
    "By combining both matrices we can have the projection matrix"
   ]
  },
  {
   "cell_type": "code",
   "execution_count": 5,
   "id": "30295bca",
   "metadata": {},
   "outputs": [
    {
     "name": "stdout",
     "output_type": "stream",
     "text": [
      "Projection Matyrix of Camera 0\n",
      "[[ 2.66666667e+03  9.60000000e+02  0.00000000e+00  0.00000000e+00]\n",
      " [ 0.00000000e+00  5.40000000e+02 -2.25000000e+03 -2.25000000e+03]\n",
      " [ 0.00000000e+00  1.00000000e+00  0.00000000e+00  0.00000000e+00]]\n",
      "\n",
      "With shape: (3, 4)\n"
     ]
    }
   ],
   "source": [
    "P = camera_data.P(0)\n",
    "\n",
    "print(f'Projection Matyrix of Camera 0\\n{P}\\n')\n",
    "print(f'With shape: {P.shape}')"
   ]
  },
  {
   "cell_type": "markdown",
   "id": "8af00fd5",
   "metadata": {},
   "source": [
    "### 1.2 Scans\n",
    "Scans should have all the segemntations from the pictures taken. It holds the data as a binary array [0 or 1]"
   ]
  },
  {
   "cell_type": "code",
   "execution_count": 6,
   "id": "7e3ea7cc",
   "metadata": {},
   "outputs": [],
   "source": [
    "scans = Scans(\"../3d_reconstruction/figures/reconstruction_d30/segmented\")"
   ]
  },
  {
   "cell_type": "code",
   "execution_count": 9,
   "id": "8545879f",
   "metadata": {},
   "outputs": [
    {
     "name": "stdout",
     "output_type": "stream",
     "text": [
      "Number of scans: 12\n",
      "Dimension of each scan: (1080, 1920)\n",
      "Values in the first scan: [0 1]\n"
     ]
    },
    {
     "data": {
      "text/plain": [
       "<matplotlib.image.AxesImage at 0x16a294c20>"
      ]
     },
     "execution_count": 9,
     "metadata": {},
     "output_type": "execute_result"
    },
    {
     "data": {
      "image/png": "[encoded data removed]",
      "text/plain": [
       "<Figure size 640x480 with 1 Axes>"
      ]
     },
     "metadata": {},
     "output_type": "display_data"
    }
   ],
   "source": [
    "print(f\"Number of scans: {scans.nr_positions}\")\n",
    "print(f\"Dimension of each scan: {scans.scan_shape}\")\n",
    "print(f\"Values in the first scan: {np.unique(scans.scan(0))}\")\n",
    "\n",
    "plt.imshow(scans.scan(0), cmap='gray')"
   ]
  },
  {
   "cell_type": "markdown",
   "id": "9f74f158",
   "metadata": {},
   "source": [
    "## Convex Hull\n",
    "This will take the data and apply the convex hull algorithm. In the simulated environment, the interest zone can be defined as a grid of `resolution` that goes from **-0.5m** to **0.5m** in every axis."
   ]
  },
  {
   "cell_type": "code",
   "execution_count": 12,
   "id": "14ab964d",
   "metadata": {},
   "outputs": [
    {
     "name": "stdout",
     "output_type": "stream",
     "text": [
      "K:\n",
      " [[2.66667e+03 0.00000e+00 9.60000e+02]\n",
      " [0.00000e+00 2.25000e+03 5.40000e+02]\n",
      " [0.00000e+00 0.00000e+00 1.00000e+00]] \n",
      "\n",
      "Extrinsics:\n",
      " [[ 1.  0.  0.  0.]\n",
      " [ 0.  0. -1. -1.]\n",
      " [ 0.  1.  0.  0.]\n",
      " [ 0.  0.  0.  1.]] \n",
      "\n",
      "P:\n",
      " [[ 2.66667e+03  9.60000e+02  0.00000e+00  0.00000e+00]\n",
      " [ 0.00000e+00  5.40000e+02 -2.25000e+03 -2.25000e+03]\n",
      " [ 0.00000e+00  1.00000e+00  0.00000e+00  0.00000e+00]] \n",
      "\n"
     ]
    },
    {
     "data": {
      "text/plain": [
       "<matplotlib.image.AxesImage at 0x174ed3d90>"
      ]
     },
     "execution_count": 12,
     "metadata": {},
     "output_type": "execute_result"
    },
    {
     "data": {
      "image/png": "[encoded data removed]",
      "text/plain": [
       "<Figure size 640x480 with 1 Axes>"
      ]
     },
     "metadata": {},
     "output_type": "display_data"
    }
   ],
   "source": [
    "camera_nr = 0\n",
    "\n",
    "P = camera_data.P(camera_nr)\n",
    "K = camera_data.K\n",
    "middle = np.zeros((3,4)) \n",
    "middle[:3, :3] = np.eye(3)\n",
    "extrinsics = camera_data.get_camera_extrinsics(camera_nr)\n",
    "\n",
    "print(\"K:\\n\", np.round(K,2), \"\\n\")\n",
    "print(\"Extrinsics:\\n\", extrinsics, \"\\n\")\n",
    "print(\"P:\\n\", np.round(P,2), \"\\n\")\n",
    "plt.imshow(scans.scan(0))"
   ]
  },
  {
   "cell_type": "code",
   "execution_count": 15,
   "id": "9cfc8a10",
   "metadata": {},
   "outputs": [
    {
     "name": "stdout",
     "output_type": "stream",
     "text": [
      "X1 : 0.0, X2 : -2250.0, X3 : 0.0\n",
      "nan -inf\n"
     ]
    },
    {
     "name": "stderr",
     "output_type": "stream",
     "text": [
      "/var/folders/bf/r_50r8qd15b63xr26n0_ts640000gn/T/ipykernel_3864/2572951376.py:3: RuntimeWarning: invalid value encountered in scalar divide\n",
      "  print(x1/x3, x2/x3)\n",
      "/var/folders/bf/r_50r8qd15b63xr26n0_ts640000gn/T/ipykernel_3864/2572951376.py:3: RuntimeWarning: divide by zero encountered in scalar divide\n",
      "  print(x1/x3, x2/x3)\n"
     ]
    }
   ],
   "source": [
    "x1, x2, x3 = P @ np.array([0,0,0,1])\n",
    "print(f\"X1 : {x1}, X2 : {x2}, X3 : {x3}\")\n",
    "print(x1/x3, x2/x3)"
   ]
  },
  {
   "cell_type": "code",
   "execution_count": 164,
   "id": "5b40ffe8",
   "metadata": {},
   "outputs": [
    {
     "name": "stdout",
     "output_type": "stream",
     "text": [
      "Recovered 3D point: [-3.00377579  8.34666504  0.8688871 ]\n"
     ]
    }
   ],
   "source": [
    "# Get the pseudo-inverse of the projection matrix\n",
    "P_inv = np.linalg.pinv(P)\n",
    "u, v = 0,0\n",
    "\n",
    "# Convert 2D point back to 3D (assuming depth = 1)\n",
    "point_2d_homogeneous = np.array([u, v, 1])\n",
    "point_3d_recovered = P_inv @ point_2d_homogeneous\n",
    "\n",
    "# Normalize by the homogeneous coordinate if needed\n",
    "if point_3d_recovered[3] != 0:\n",
    "    point_3d_recovered = point_3d_recovered[:3] / point_3d_recovered[3]\n",
    "else:\n",
    "    point_3d_recovered = point_3d_recovered[:3]\n",
    "\n",
    "print(f\"Recovered 3D point: {point_3d_recovered}\")\n",
    "start_range = point_3d_recovered"
   ]
  },
  {
   "cell_type": "code",
   "execution_count": 197,
   "id": "63d73d2a",
   "metadata": {},
   "outputs": [
    {
     "data": {
      "text/plain": [
       "(1080, 1920)"
      ]
     },
     "execution_count": 197,
     "metadata": {},
     "output_type": "execute_result"
    }
   ],
   "source": [
    "scans.scan_shape"
   ]
  },
  {
   "cell_type": "code",
   "execution_count": null,
   "id": "f8c9064d",
   "metadata": {},
   "outputs": [
    {
     "name": "stdout",
     "output_type": "stream",
     "text": [
      "[[ 2.29617516e+03  9.40467212e+02 -1.36960311e+03 -1.33301910e+03]\n",
      " [-1.14411101e+03  5.12177360e+02 -1.94493817e+03 -1.94822332e+03]\n",
      " [-4.65661287e-10  9.99897361e-01 -1.43322209e-02  0.00000000e+00]]\n"
     ]
    }
   ],
   "source": []
  },
  {
   "cell_type": "code",
   "execution_count": null,
   "id": "1394bed4",
   "metadata": {},
   "outputs": [],
   "source": []
  },
  {
   "cell_type": "code",
   "execution_count": 403,
   "id": "5ba56939",
   "metadata": {},
   "outputs": [
    {
     "name": "stdout",
     "output_type": "stream",
     "text": [
      "K:\n",
      " [[2.66667e+03 0.00000e+00 9.60000e+02]\n",
      " [0.00000e+00 2.25000e+03 5.40000e+02]\n",
      " [0.00000e+00 0.00000e+00 1.00000e+00]] \n",
      "\n",
      "Middle: \n",
      " [[1. 0. 0. 0.]\n",
      " [0. 1. 0. 0.]\n",
      " [0. 0. 1. 0.]] \n",
      "\n",
      "Extrinsics:\n",
      " [[ 9.99992847e-01  5.45056282e-05  3.79700959e-03  0.00000000e+00]\n",
      " [ 3.79740074e-03 -1.43533014e-02 -9.99889851e-01 -1.00000000e+00]\n",
      " [-3.63797881e-12  9.99897003e-01 -1.43534066e-02  0.00000000e+00]\n",
      " [ 0.00000000e+00  0.00000000e+00  0.00000000e+00  1.00000000e+00]] \n",
      "\n",
      "Rotation:\n",
      " [[ 9.99992847e-01  5.45056282e-05  3.79700959e-03]\n",
      " [ 3.79740074e-03 -1.43533014e-02 -9.99889851e-01]\n",
      " [-3.63797881e-12  9.99897003e-01 -1.43534066e-02]] \n",
      "\n",
      "Translation:\n",
      " [ 0. -1.  0.] \n",
      "\n",
      "[[2.66666992e+03 0.00000000e+00 9.60000000e+02 0.00000000e+00]\n",
      " [0.00000000e+00 2.25000000e+03 5.40000000e+02 0.00000000e+00]\n",
      " [0.00000000e+00 0.00000000e+00 1.00000000e+00 0.00000000e+00]]\n",
      "New P:\n",
      " [[ 2.66665085e+03  9.60046472e+02 -3.65389909e+00  0.00000000e+00]\n",
      " [ 8.54415167e+00  5.07649454e+02 -2.25750300e+03 -2.25000000e+03]\n",
      " [-3.63797881e-12  9.99897003e-01 -1.43534066e-02  0.00000000e+00]] \n",
      "\n",
      "Old P:\n",
      " [[ 2.66664759e+03  9.60046471e+02 -3.65391145e+00  0.00000000e+00]\n",
      " [ 8.54415167e+00  5.07649454e+02 -2.25750300e+03 -2.25000000e+03]\n",
      " [-3.63797881e-12  9.99897003e-01 -1.43534066e-02  0.00000000e+00]] \n",
      "\n",
      "Old Vs New P are close?:  True \n",
      "\n",
      "P's Spectral Norm: 3244.1412704238755\n"
     ]
    }
   ],
   "source": [
    "camera_nr = 0\n",
    "P = camera_data.P(camera_nr)\n",
    "\n",
    "K = np.round(camera_data.K, 2).astype(np.float32)\n",
    "middle = np.zeros((3,4)) \n",
    "middle[:3, :3] = np.eye(3)\n",
    "extrinsics = camera_data.get_camera_extrinsics(camera_nr)\n",
    "rotation = extrinsics[:3, :3]\n",
    "translation = extrinsics[:3, 3]\n",
    "\n",
    "print(\"K:\\n\", np.round(K,2), \"\\n\")\n",
    "print(\"Middle: \\n\", middle, \"\\n\")\n",
    "print(\"Extrinsics:\\n\", extrinsics, \"\\n\")\n",
    "print(\"Rotation:\\n\", rotation, \"\\n\")\n",
    "print(\"Translation:\\n\", translation, \"\\n\")\n",
    "\n",
    "print(K @ middle)\n",
    "\n",
    "new_P = K @ middle @ extrinsics\n",
    "print(\"New P:\\n\", new_P, \"\\n\")\n",
    "print(\"Old P:\\n\", P, \"\\n\")\n",
    "\n",
    "print(\"Old Vs New P are close?: \", np.allclose(P, new_P), \"\\n\")\n",
    "\n",
    "print(\"P's Spectral Norm:\", np.linalg.norm(P, 2))\n",
    "\n"
   ]
  },
  {
   "cell_type": "code",
   "execution_count": 422,
   "id": "038fc64f",
   "metadata": {},
   "outputs": [
    {
     "name": "stdout",
     "output_type": "stream",
     "text": [
      "254.56668157659237 157286.2153164944\n"
     ]
    }
   ],
   "source": [
    "x1, x2, x3 = new_P @ np.array([0,0,25000,1])\n",
    "print(x1/x3, x2/x3)"
   ]
  },
  {
   "cell_type": "code",
   "execution_count": 413,
   "id": "da567ecc",
   "metadata": {},
   "outputs": [
    {
     "name": "stdout",
     "output_type": "stream",
     "text": [
      "(1080, 1920)\n"
     ]
    },
    {
     "data": {
      "image/png": "[encoded data removed]",
      "text/plain": [
       "<Figure size 640x480 with 1 Axes>"
      ]
     },
     "metadata": {},
     "output_type": "display_data"
    }
   ],
   "source": [
    "plt.imshow(scans.scan(0))\n",
    "plt.scatter(scans.scan_shape[1]//2, scans.scan_shape[0]//2, color='red', s=10)\n",
    "print(scans.scan_shape)"
   ]
  },
  {
   "cell_type": "code",
   "execution_count": 295,
   "id": "d8ecc0e8",
   "metadata": {},
   "outputs": [
    {
     "name": "stdout",
     "output_type": "stream",
     "text": [
      "Recovered 3D point: [-0.15053548 -3.24618854  1.04613727]\n"
     ]
    }
   ],
   "source": [
    "# Get the pseudo-inverse of the projection matrix\n",
    "P_inv = np.linalg.pinv(P)\n",
    "u, v = 1080, 1920\n",
    "\n",
    "# Convert 2D point back to 3D (assuming depth = 1)\n",
    "point_2d_homogeneous = np.array([u, v, 1])\n",
    "point_3d_recovered = P_inv @ point_2d_homogeneous\n",
    "\n",
    "# Normalize by the homogeneous coordinate if needed\n",
    "if point_3d_recovered[3] != 0:\n",
    "    point_3d_recovered = point_3d_recovered[:3] / point_3d_recovered[3]\n",
    "else:\n",
    "    point_3d_recovered = point_3d_recovered[:3]\n",
    "\n",
    "print(f\"Recovered 3D point: {point_3d_recovered}\")\n",
    "end_range = point_3d_recovered"
   ]
  },
  {
   "cell_type": "code",
   "execution_count": 299,
   "id": "5e2b47fa",
   "metadata": {},
   "outputs": [
    {
     "data": {
      "text/plain": [
       "array([-3522, -6261,    -3])"
      ]
     },
     "execution_count": 299,
     "metadata": {},
     "output_type": "execute_result"
    }
   ],
   "source": [
    "point_3d_recovered = [point_3d_recovered[0], point_3d_recovered[1], point_3d_recovered[2], 1]\n",
    "np.round(P @ point_3d_recovered).astype(int)"
   ]
  },
  {
   "cell_type": "code",
   "execution_count": 289,
   "id": "9cddabc7",
   "metadata": {},
   "outputs": [],
   "source": [
    "# GENERATE GRID OF 3D POINTS\n",
    "# [-3.00377579  8.34666504  0.8688871 ]\n",
    "# [-0.15053548 -3.24618854  1.04613727]\n",
    "start_range = np.array([-1.17937123,  0.06638487, -2.18180192])\n",
    "end_range = np.array([1.17907361, 1.93505969, 0.13677393])\n",
    "\n",
    "resolution = 50\n",
    "range_value = 0.5\n",
    "x_range = np.sort(np.linspace(start_range[0], end_range[0], resolution))\n",
    "y_range = np.sort(np.linspace(start_range[0], end_range[0], resolution))\n",
    "z_range = np.sort(np.linspace(start_range[0], end_range[0], resolution))\n",
    "\n",
    "X, Y, Z = np.meshgrid(x_range, y_range, z_range)"
   ]
  },
  {
   "cell_type": "code",
   "execution_count": 389,
   "id": "60cb3372",
   "metadata": {},
   "outputs": [],
   "source": [
    "# GENERATE GRID OF 3D POINTS\n",
    "# [-3.00377579  8.34666504  0.8688871 ]\n",
    "# [-0.15053548 -3.24618854  1.04613727]\n",
    "resolution = 25\n",
    "range_value = 1\n",
    "x_range = np.linspace(-range_value, range_value, resolution)\n",
    "y_range = np.linspace(-range_value, range_value, resolution)\n",
    "z_range = np.linspace(-range_value, range_value, resolution)\n",
    "\n",
    "X, Y, Z = np.meshgrid(x_range, y_range, z_range)"
   ]
  },
  {
   "cell_type": "code",
   "execution_count": 390,
   "id": "4e24f4aa",
   "metadata": {},
   "outputs": [
    {
     "name": "stdout",
     "output_type": "stream",
     "text": [
      "[[ 8.61065686e-01 -7.28784548e-03 -5.08441567e-01 -4.99882162e-01]\n",
      " [-5.08493781e-01 -1.23409843e-02 -8.60977232e-01 -8.65877032e-01]\n",
      " [-4.65661287e-10  9.99897361e-01 -1.43322209e-02  0.00000000e+00]\n",
      " [ 0.00000000e+00  0.00000000e+00  0.00000000e+00  1.00000000e+00]]\n"
     ]
    }
   ],
   "source": [
    "print(camera_data.get_camera_extrinsics(1))"
   ]
  },
  {
   "cell_type": "code",
   "execution_count": 391,
   "id": "697ef980",
   "metadata": {},
   "outputs": [],
   "source": [
    "test_array = np.zeros((resolution, resolution, resolution, 3))\n",
    "for i, x in enumerate(x_range):\n",
    "    for j, y in enumerate(y_range):\n",
    "        for k, z in enumerate(z_range):\n",
    "            test_array[i, j, k] = np.array([x, y, z])"
   ]
  },
  {
   "cell_type": "code",
   "execution_count": 392,
   "id": "45dd7227",
   "metadata": {},
   "outputs": [
    {
     "name": "stdout",
     "output_type": "stream",
     "text": [
      "Positions where test_array equals [-1 -1 -1]:\n",
      "[0 0 0]\n"
     ]
    }
   ],
   "source": [
    "# Find position where test_array has the value [-1, -1, -1]\n",
    "target_value = np.array([-1, -1, -1])\n",
    "positions = np.array(np.where(np.all(test_array == target_value, axis=3))).ravel()\n",
    "print(f\"Positions where test_array equals {target_value}:\")\n",
    "print(positions)"
   ]
  },
  {
   "cell_type": "code",
   "execution_count": 393,
   "id": "8c66acab",
   "metadata": {},
   "outputs": [
    {
     "name": "stdout",
     "output_type": "stream",
     "text": [
      "-0.16666666666666674 -0.5833333333333334 -0.75\n",
      "[10  5  3]\n",
      "1\n"
     ]
    }
   ],
   "source": [
    "camera_volume = np.zeros(X.shape, dtype=int)\n",
    "target_camera = 0\n",
    "P = camera_data.P(target_camera)\n",
    "has_printed = False\n",
    "found_points = []\n",
    "\n",
    "for x in x_range:\n",
    "    for y in y_range:\n",
    "        for z in z_range:\n",
    "            point_3d = np.array([x, y, z, 1])\n",
    "            x1, x2, x3 = np.round(P @ point_3d).astype(int)\n",
    "            if x3 == 0: continue\n",
    "            u = x1 // x3\n",
    "            v = x2 // x3\n",
    "            found_points.append((u,v))\n",
    "            if 0 <= u < scans.scan_shape[0] and 0 <= v < scans.scan_shape[1]:\n",
    "                position = np.array(np.where(np.all(test_array == np.array([x,y,z]), axis=3))).ravel()\n",
    "                scan_value = scans.scan(target_camera)[u, v]\n",
    "                if scan_value > 0 and not has_printed:\n",
    "                    print(x,y,z)\n",
    "                    print(position)\n",
    "                    print(scan_value)\n",
    "                    has_printed = True\n",
    "                camera_volume[position] += scan_value\n",
    "\n",
    "camera_volume = np.where(camera_volume > 0, 1, 0)"
   ]
  },
  {
   "cell_type": "code",
   "execution_count": 394,
   "id": "05a67f74",
   "metadata": {},
   "outputs": [
    {
     "data": {
      "text/plain": [
       "<matplotlib.collections.PathCollection at 0x29199cb90>"
      ]
     },
     "execution_count": 394,
     "metadata": {},
     "output_type": "execute_result"
    },
    {
     "data": {
      "image/png": "[encoded data removed]",
      "text/plain": [
       "<Figure size 640x480 with 1 Axes>"
      ]
     },
     "metadata": {},
     "output_type": "display_data"
    }
   ],
   "source": [
    "import matplotlib.pyplot as plt\n",
    "plt.imshow(scans.scan(0))\n",
    "plt.scatter([v for u,v in found_points], [u for u,v in found_points], color='red', s=1)"
   ]
  },
  {
   "cell_type": "code",
   "execution_count": 395,
   "id": "cb4faa08",
   "metadata": {},
   "outputs": [
    {
     "name": "stdout",
     "output_type": "stream",
     "text": [
      "(25, 25, 25)\n"
     ]
    }
   ],
   "source": [
    "print(camera_volume.shape)"
   ]
  },
  {
   "cell_type": "code",
   "execution_count": 396,
   "id": "6a766e76",
   "metadata": {},
   "outputs": [
    {
     "data": {
      "text/plain": [
       "array([0, 1])"
      ]
     },
     "execution_count": 396,
     "metadata": {},
     "output_type": "execute_result"
    }
   ],
   "source": [
    "np.unique(camera_volume)"
   ]
  },
  {
   "cell_type": "code",
   "execution_count": 400,
   "id": "35299a82",
   "metadata": {},
   "outputs": [
    {
     "data": {
      "text/plain": [
       "<matplotlib.image.AxesImage at 0x292797250>"
      ]
     },
     "execution_count": 400,
     "metadata": {},
     "output_type": "execute_result"
    },
    {
     "data": {
      "image/png": "[encoded data removed]",
      "text/plain": [
       "<Figure size 640x480 with 1 Axes>"
      ]
     },
     "metadata": {},
     "output_type": "display_data"
    },
    {
     "data": {
      "image/png": "[encoded data removed]",
      "text/plain": [
       "<Figure size 640x480 with 1 Axes>"
      ]
     },
     "metadata": {},
     "output_type": "display_data"
    },
    {
     "data": {
      "image/png": "[encoded data removed]",
      "text/plain": [
       "<Figure size 640x480 with 1 Axes>"
      ]
     },
     "metadata": {},
     "output_type": "display_data"
    }
   ],
   "source": [
    "import matplotlib.pyplot as plt\n",
    "plt.figure()\n",
    "plt.imshow(camera_volume[:, :, resolution // 2], cmap='gray')\n",
    "plt.figure()\n",
    "plt.imshow(camera_volume[:, resolution // 2, :], cmap='gray')\n",
    "plt.figure()\n",
    "plt.imshow(camera_volume[resolution // 2+10, :, :], cmap='gray')"
   ]
  },
  {
   "cell_type": "code",
   "execution_count": 275,
   "id": "76358ccd",
   "metadata": {},
   "outputs": [
    {
     "name": "stdout",
     "output_type": "stream",
     "text": [
      "✅ Finished exporting blender/camera_volume_mesh.ply\n",
      "Mesh vertices: 5000, faces: 9604\n"
     ]
    },
    {
     "data": {
      "text/plain": [
       "<trimesh.Trimesh(vertices.shape=(5000, 3), faces.shape=(9604, 3))>"
      ]
     },
     "execution_count": 275,
     "metadata": {},
     "output_type": "execute_result"
    }
   ],
   "source": [
    "#camera_volume = np.zeros(X.shape, dtype=int) + np.random.randint(0, 2, size=X.shape)\n",
    "build_mesh(camera_volume, file_name=\"camera_volume_mesh.ply\")"
   ]
  },
  {
   "cell_type": "code",
   "execution_count": 52,
   "id": "dedc4067",
   "metadata": {},
   "outputs": [
    {
     "data": {
      "text/plain": [
       "array([-0.1       , -0.09591837, -0.09183673, -0.0877551 , -0.08367347,\n",
       "       -0.07959184, -0.0755102 , -0.07142857, -0.06734694, -0.06326531,\n",
       "       -0.05918367, -0.05510204, -0.05102041, -0.04693878, -0.04285714,\n",
       "       -0.03877551, -0.03469388, -0.03061224, -0.02653061, -0.02244898,\n",
       "       -0.01836735, -0.01428571, -0.01020408, -0.00612245, -0.00204082,\n",
       "        0.00204082,  0.00612245,  0.01020408,  0.01428571,  0.01836735,\n",
       "        0.02244898,  0.02653061,  0.03061224,  0.03469388,  0.03877551,\n",
       "        0.04285714,  0.04693878,  0.05102041,  0.05510204,  0.05918367,\n",
       "        0.06326531,  0.06734694,  0.07142857,  0.0755102 ,  0.07959184,\n",
       "        0.08367347,  0.0877551 ,  0.09183673,  0.09591837,  0.1       ])"
      ]
     },
     "execution_count": 52,
     "metadata": {},
     "output_type": "execute_result"
    }
   ],
   "source": [
    "np.linspace(-0.1, 0.1, resolution)"
   ]
  },
  {
   "cell_type": "code",
   "execution_count": 80,
   "id": "c44bd036",
   "metadata": {},
   "outputs": [
    {
     "data": {
      "text/plain": [
       "[array([ -362., -2076.]),\n",
       " array([ -362., -2085.]),\n",
       " array([ -362., -2094.]),\n",
       " array([ -362., -2104.]),\n",
       " array([ -362., -2113.]),\n",
       " array([ -362., -2122.]),\n",
       " array([ -362., -2131.]),\n",
       " array([ -362., -2140.]),\n",
       " array([ -362., -2150.]),\n",
       " array([ -362., -2159.]),\n",
       " array([ -362., -2168.]),\n",
       " array([ -362., -2177.]),\n",
       " array([ -362., -2186.]),\n",
       " array([ -362., -2196.]),\n",
       " array([ -363., -2205.]),\n",
       " array([ -363., -2214.]),\n",
       " array([ -363., -2223.]),\n",
       " array([ -363., -2233.]),\n",
       " array([ -363., -2242.]),\n",
       " array([ -363., -2251.]),\n",
       " array([ -363., -2260.]),\n",
       " array([ -363., -2269.]),\n",
       " array([ -363., -2279.]),\n",
       " array([ -363., -2288.]),\n",
       " array([ -363., -2297.]),\n",
       " array([ -363., -2306.]),\n",
       " array([ -363., -2315.]),\n",
       " array([ -363., -2325.]),\n",
       " array([ -363., -2334.]),\n",
       " array([ -363., -2343.]),\n",
       " array([ -363., -2352.]),\n",
       " array([ -363., -2362.]),\n",
       " array([ -363., -2371.]),\n",
       " array([ -363., -2380.]),\n",
       " array([ -363., -2389.]),\n",
       " array([ -363., -2398.]),\n",
       " array([ -363., -2408.]),\n",
       " array([ -363., -2417.]),\n",
       " array([ -363., -2426.]),\n",
       " array([ -363., -2435.]),\n",
       " array([ -363., -2444.]),\n",
       " array([ -363., -2454.]),\n",
       " array([ -363., -2463.]),\n",
       " array([ -363., -2472.]),\n",
       " array([ -363., -2481.]),\n",
       " array([ -363., -2491.]),\n",
       " array([ -363., -2500.]),\n",
       " array([ -363., -2509.]),\n",
       " array([ -363., -2518.]),\n",
       " array([ -363., -2527.]),\n",
       " array([ -358., -2074.]),\n",
       " array([ -358., -2083.]),\n",
       " array([ -358., -2092.]),\n",
       " array([ -358., -2101.]),\n",
       " array([ -358., -2111.]),\n",
       " array([ -358., -2120.]),\n",
       " array([ -358., -2129.]),\n",
       " array([ -358., -2138.]),\n",
       " array([ -359., -2148.]),\n",
       " array([ -359., -2157.]),\n",
       " array([ -359., -2166.]),\n",
       " array([ -359., -2175.]),\n",
       " array([ -359., -2184.]),\n",
       " array([ -359., -2194.]),\n",
       " array([ -359., -2203.]),\n",
       " array([ -359., -2212.]),\n",
       " array([ -359., -2221.]),\n",
       " array([ -359., -2230.]),\n",
       " array([ -359., -2240.]),\n",
       " array([ -359., -2249.]),\n",
       " array([ -359., -2258.]),\n",
       " array([ -359., -2267.]),\n",
       " array([ -359., -2277.]),\n",
       " array([ -359., -2286.]),\n",
       " array([ -359., -2295.]),\n",
       " array([ -359., -2304.]),\n",
       " array([ -359., -2313.]),\n",
       " array([ -359., -2323.]),\n",
       " array([ -359., -2332.]),\n",
       " array([ -359., -2341.]),\n",
       " array([ -359., -2350.]),\n",
       " array([ -359., -2359.]),\n",
       " array([ -359., -2369.]),\n",
       " array([ -359., -2378.]),\n",
       " array([ -359., -2387.]),\n",
       " array([ -359., -2396.]),\n",
       " array([ -359., -2406.]),\n",
       " array([ -359., -2415.]),\n",
       " array([ -359., -2424.]),\n",
       " array([ -359., -2433.]),\n",
       " array([ -359., -2442.]),\n",
       " array([ -359., -2452.]),\n",
       " array([ -359., -2461.]),\n",
       " array([ -359., -2470.]),\n",
       " array([ -359., -2479.]),\n",
       " array([ -359., -2488.]),\n",
       " array([ -359., -2498.]),\n",
       " array([ -359., -2507.]),\n",
       " array([ -359., -2516.]),\n",
       " array([ -359., -2525.]),\n",
       " array([ -354., -2072.]),\n",
       " array([ -354., -2081.]),\n",
       " array([ -354., -2090.]),\n",
       " array([ -355., -2099.]),\n",
       " array([ -355., -2109.]),\n",
       " array([ -355., -2118.]),\n",
       " array([ -355., -2127.]),\n",
       " array([ -355., -2136.]),\n",
       " array([ -355., -2145.]),\n",
       " array([ -355., -2155.]),\n",
       " array([ -355., -2164.]),\n",
       " array([ -355., -2173.]),\n",
       " array([ -355., -2182.]),\n",
       " array([ -355., -2192.]),\n",
       " array([ -355., -2201.]),\n",
       " array([ -355., -2210.]),\n",
       " array([ -355., -2219.]),\n",
       " array([ -355., -2228.]),\n",
       " array([ -355., -2238.]),\n",
       " array([ -355., -2247.]),\n",
       " array([ -355., -2256.]),\n",
       " array([ -355., -2265.]),\n",
       " array([ -355., -2274.]),\n",
       " array([ -355., -2284.]),\n",
       " array([ -355., -2293.]),\n",
       " array([ -355., -2302.]),\n",
       " array([ -355., -2311.]),\n",
       " array([ -355., -2321.]),\n",
       " array([ -355., -2330.]),\n",
       " array([ -355., -2339.]),\n",
       " array([ -355., -2348.]),\n",
       " array([ -355., -2357.]),\n",
       " array([ -355., -2367.]),\n",
       " array([ -355., -2376.]),\n",
       " array([ -355., -2385.]),\n",
       " array([ -355., -2394.]),\n",
       " array([ -355., -2403.]),\n",
       " array([ -355., -2413.]),\n",
       " array([ -355., -2422.]),\n",
       " array([ -355., -2431.]),\n",
       " array([ -355., -2440.]),\n",
       " array([ -355., -2450.]),\n",
       " array([ -355., -2459.]),\n",
       " array([ -355., -2468.]),\n",
       " array([ -355., -2477.]),\n",
       " array([ -355., -2486.]),\n",
       " array([ -355., -2496.]),\n",
       " array([ -355., -2505.]),\n",
       " array([ -355., -2514.]),\n",
       " array([ -355., -2523.]),\n",
       " array([ -351., -2070.]),\n",
       " array([ -351., -2079.]),\n",
       " array([ -351., -2088.]),\n",
       " array([ -351., -2097.]),\n",
       " array([ -351., -2107.]),\n",
       " array([ -351., -2116.]),\n",
       " array([ -351., -2125.]),\n",
       " array([ -351., -2134.]),\n",
       " array([ -351., -2143.]),\n",
       " array([ -351., -2153.]),\n",
       " array([ -351., -2162.]),\n",
       " array([ -351., -2171.]),\n",
       " array([ -351., -2180.]),\n",
       " array([ -351., -2189.]),\n",
       " array([ -351., -2199.]),\n",
       " array([ -351., -2208.]),\n",
       " array([ -351., -2217.]),\n",
       " array([ -351., -2226.]),\n",
       " array([ -351., -2236.]),\n",
       " array([ -351., -2245.]),\n",
       " array([ -351., -2254.]),\n",
       " array([ -351., -2263.]),\n",
       " array([ -351., -2272.]),\n",
       " array([ -351., -2282.]),\n",
       " array([ -351., -2291.]),\n",
       " array([ -351., -2300.]),\n",
       " array([ -351., -2309.]),\n",
       " array([ -351., -2318.]),\n",
       " array([ -351., -2328.]),\n",
       " array([ -351., -2337.]),\n",
       " array([ -351., -2346.]),\n",
       " array([ -351., -2355.]),\n",
       " array([ -351., -2365.]),\n",
       " array([ -351., -2374.]),\n",
       " array([ -351., -2383.]),\n",
       " array([ -351., -2392.]),\n",
       " array([ -351., -2401.]),\n",
       " array([ -351., -2411.]),\n",
       " array([ -351., -2420.]),\n",
       " array([ -351., -2429.]),\n",
       " array([ -351., -2438.]),\n",
       " array([ -351., -2447.]),\n",
       " array([ -351., -2457.]),\n",
       " array([ -351., -2466.]),\n",
       " array([ -351., -2475.]),\n",
       " array([ -351., -2484.]),\n",
       " array([ -351., -2494.]),\n",
       " array([ -351., -2503.]),\n",
       " array([ -351., -2512.]),\n",
       " array([ -351., -2521.]),\n",
       " array([ -347., -2068.]),\n",
       " array([ -347., -2077.]),\n",
       " array([ -347., -2086.]),\n",
       " array([ -347., -2095.]),\n",
       " array([ -347., -2104.]),\n",
       " array([ -347., -2114.]),\n",
       " array([ -347., -2123.]),\n",
       " array([ -347., -2132.]),\n",
       " array([ -347., -2141.]),\n",
       " array([ -347., -2151.]),\n",
       " array([ -347., -2160.]),\n",
       " array([ -347., -2169.]),\n",
       " array([ -347., -2178.]),\n",
       " array([ -347., -2187.]),\n",
       " array([ -347., -2197.]),\n",
       " array([ -347., -2206.]),\n",
       " array([ -347., -2215.]),\n",
       " array([ -347., -2224.]),\n",
       " array([ -347., -2233.]),\n",
       " array([ -347., -2243.]),\n",
       " array([ -347., -2252.]),\n",
       " array([ -347., -2261.]),\n",
       " array([ -347., -2270.]),\n",
       " array([ -347., -2280.]),\n",
       " array([ -347., -2289.]),\n",
       " array([ -347., -2298.]),\n",
       " array([ -347., -2307.]),\n",
       " array([ -347., -2316.]),\n",
       " array([ -347., -2326.]),\n",
       " array([ -347., -2335.]),\n",
       " array([ -347., -2344.]),\n",
       " array([ -347., -2353.]),\n",
       " array([ -347., -2362.]),\n",
       " array([ -347., -2372.]),\n",
       " array([ -347., -2381.]),\n",
       " array([ -347., -2390.]),\n",
       " array([ -347., -2399.]),\n",
       " array([ -347., -2409.]),\n",
       " array([ -347., -2418.]),\n",
       " array([ -347., -2427.]),\n",
       " array([ -347., -2436.]),\n",
       " array([ -347., -2445.]),\n",
       " array([ -347., -2455.]),\n",
       " array([ -347., -2464.]),\n",
       " array([ -347., -2473.]),\n",
       " array([ -347., -2482.]),\n",
       " array([ -347., -2491.]),\n",
       " array([ -347., -2501.]),\n",
       " array([ -347., -2510.]),\n",
       " array([ -347., -2519.]),\n",
       " array([ -343., -2066.]),\n",
       " array([ -343., -2075.]),\n",
       " array([ -343., -2084.]),\n",
       " array([ -343., -2093.]),\n",
       " array([ -343., -2102.]),\n",
       " array([ -343., -2112.]),\n",
       " array([ -343., -2121.]),\n",
       " array([ -343., -2130.]),\n",
       " array([ -343., -2139.]),\n",
       " array([ -343., -2148.]),\n",
       " array([ -343., -2158.]),\n",
       " array([ -343., -2167.]),\n",
       " array([ -343., -2176.]),\n",
       " array([ -343., -2185.]),\n",
       " array([ -343., -2195.]),\n",
       " array([ -343., -2204.]),\n",
       " array([ -343., -2213.]),\n",
       " array([ -343., -2222.]),\n",
       " array([ -343., -2231.]),\n",
       " array([ -343., -2241.]),\n",
       " array([ -343., -2250.]),\n",
       " array([ -343., -2259.]),\n",
       " array([ -343., -2268.]),\n",
       " array([ -343., -2277.]),\n",
       " array([ -343., -2287.]),\n",
       " array([ -343., -2296.]),\n",
       " array([ -343., -2305.]),\n",
       " array([ -343., -2314.]),\n",
       " array([ -343., -2324.]),\n",
       " array([ -343., -2333.]),\n",
       " array([ -343., -2342.]),\n",
       " array([ -343., -2351.]),\n",
       " array([ -343., -2360.]),\n",
       " array([ -343., -2370.]),\n",
       " array([ -343., -2379.]),\n",
       " array([ -343., -2388.]),\n",
       " array([ -343., -2397.]),\n",
       " array([ -343., -2406.]),\n",
       " array([ -343., -2416.]),\n",
       " array([ -343., -2425.]),\n",
       " array([ -343., -2434.]),\n",
       " array([ -343., -2443.]),\n",
       " array([ -343., -2453.]),\n",
       " array([ -343., -2462.]),\n",
       " array([ -343., -2471.]),\n",
       " array([ -343., -2480.]),\n",
       " array([ -343., -2489.]),\n",
       " array([ -343., -2499.]),\n",
       " array([ -343., -2508.]),\n",
       " array([ -343., -2517.]),\n",
       " array([ -339., -2063.]),\n",
       " array([ -339., -2073.]),\n",
       " array([ -339., -2082.]),\n",
       " array([ -339., -2091.]),\n",
       " array([ -339., -2100.]),\n",
       " array([ -339., -2110.]),\n",
       " array([ -339., -2119.]),\n",
       " array([ -339., -2128.]),\n",
       " array([ -339., -2137.]),\n",
       " array([ -339., -2146.]),\n",
       " array([ -339., -2156.]),\n",
       " array([ -339., -2165.]),\n",
       " array([ -339., -2174.]),\n",
       " array([ -339., -2183.]),\n",
       " array([ -339., -2192.]),\n",
       " array([ -339., -2202.]),\n",
       " array([ -339., -2211.]),\n",
       " array([ -339., -2220.]),\n",
       " array([ -339., -2229.]),\n",
       " array([ -339., -2239.]),\n",
       " array([ -339., -2248.]),\n",
       " array([ -339., -2257.]),\n",
       " array([ -339., -2266.]),\n",
       " array([ -339., -2275.]),\n",
       " array([ -339., -2285.]),\n",
       " array([ -339., -2294.]),\n",
       " array([ -339., -2303.]),\n",
       " array([ -339., -2312.]),\n",
       " array([ -339., -2321.]),\n",
       " array([ -339., -2331.]),\n",
       " array([ -339., -2340.]),\n",
       " array([ -339., -2349.]),\n",
       " array([ -339., -2358.]),\n",
       " array([ -339., -2368.]),\n",
       " array([ -339., -2377.]),\n",
       " array([ -339., -2386.]),\n",
       " array([ -339., -2395.]),\n",
       " array([ -339., -2404.]),\n",
       " array([ -339., -2414.]),\n",
       " array([ -339., -2423.]),\n",
       " array([ -339., -2432.]),\n",
       " array([ -339., -2441.]),\n",
       " array([ -339., -2450.]),\n",
       " array([ -339., -2460.]),\n",
       " array([ -339., -2469.]),\n",
       " array([ -339., -2478.]),\n",
       " array([ -339., -2487.]),\n",
       " array([ -339., -2497.]),\n",
       " array([ -340., -2506.]),\n",
       " array([ -340., -2515.]),\n",
       " array([ -335., -2061.]),\n",
       " array([ -335., -2071.]),\n",
       " array([ -335., -2080.]),\n",
       " array([ -335., -2089.]),\n",
       " array([ -335., -2098.]),\n",
       " array([ -335., -2107.]),\n",
       " array([ -335., -2117.]),\n",
       " array([ -335., -2126.]),\n",
       " array([ -335., -2135.]),\n",
       " array([ -335., -2144.]),\n",
       " array([ -335., -2154.]),\n",
       " array([ -335., -2163.]),\n",
       " array([ -335., -2172.]),\n",
       " array([ -335., -2181.]),\n",
       " array([ -335., -2190.]),\n",
       " array([ -335., -2200.]),\n",
       " array([ -335., -2209.]),\n",
       " array([ -335., -2218.]),\n",
       " array([ -335., -2227.]),\n",
       " array([ -335., -2236.]),\n",
       " array([ -335., -2246.]),\n",
       " array([ -335., -2255.]),\n",
       " array([ -335., -2264.]),\n",
       " array([ -335., -2273.]),\n",
       " array([ -335., -2283.]),\n",
       " array([ -335., -2292.]),\n",
       " array([ -335., -2301.]),\n",
       " array([ -335., -2310.]),\n",
       " array([ -335., -2319.]),\n",
       " array([ -335., -2329.]),\n",
       " array([ -335., -2338.]),\n",
       " array([ -335., -2347.]),\n",
       " array([ -335., -2356.]),\n",
       " array([ -335., -2365.]),\n",
       " array([ -335., -2375.]),\n",
       " array([ -335., -2384.]),\n",
       " array([ -335., -2393.]),\n",
       " array([ -335., -2402.]),\n",
       " array([ -335., -2412.]),\n",
       " array([ -335., -2421.]),\n",
       " array([ -335., -2430.]),\n",
       " array([ -335., -2439.]),\n",
       " array([ -336., -2448.]),\n",
       " array([ -336., -2458.]),\n",
       " array([ -336., -2467.]),\n",
       " array([ -336., -2476.]),\n",
       " array([ -336., -2485.]),\n",
       " array([ -336., -2494.]),\n",
       " array([ -336., -2504.]),\n",
       " array([ -336., -2513.]),\n",
       " array([ -331., -2059.]),\n",
       " array([ -331., -2069.]),\n",
       " array([ -331., -2078.]),\n",
       " array([ -331., -2087.]),\n",
       " array([ -331., -2096.]),\n",
       " array([ -331., -2105.]),\n",
       " array([ -331., -2115.]),\n",
       " array([ -331., -2124.]),\n",
       " array([ -331., -2133.]),\n",
       " array([ -331., -2142.]),\n",
       " array([ -331., -2151.]),\n",
       " array([ -331., -2161.]),\n",
       " array([ -331., -2170.]),\n",
       " array([ -331., -2179.]),\n",
       " array([ -331., -2188.]),\n",
       " array([ -331., -2198.]),\n",
       " array([ -331., -2207.]),\n",
       " array([ -331., -2216.]),\n",
       " array([ -331., -2225.]),\n",
       " array([ -331., -2234.]),\n",
       " array([ -331., -2244.]),\n",
       " array([ -331., -2253.]),\n",
       " array([ -331., -2262.]),\n",
       " array([ -331., -2271.]),\n",
       " array([ -331., -2280.]),\n",
       " array([ -331., -2290.]),\n",
       " array([ -331., -2299.]),\n",
       " array([ -331., -2308.]),\n",
       " array([ -331., -2317.]),\n",
       " array([ -331., -2327.]),\n",
       " array([ -331., -2336.]),\n",
       " array([ -331., -2345.]),\n",
       " array([ -331., -2354.]),\n",
       " array([ -331., -2363.]),\n",
       " array([ -331., -2373.]),\n",
       " array([ -331., -2382.]),\n",
       " array([ -331., -2391.]),\n",
       " array([ -332., -2400.]),\n",
       " array([ -332., -2409.]),\n",
       " array([ -332., -2419.]),\n",
       " array([ -332., -2428.]),\n",
       " array([ -332., -2437.]),\n",
       " array([ -332., -2446.]),\n",
       " array([ -332., -2456.]),\n",
       " array([ -332., -2465.]),\n",
       " array([ -332., -2474.]),\n",
       " array([ -332., -2483.]),\n",
       " array([ -332., -2492.]),\n",
       " array([ -332., -2502.]),\n",
       " array([ -332., -2511.]),\n",
       " array([ -327., -2057.]),\n",
       " array([ -327., -2066.]),\n",
       " array([ -327., -2076.]),\n",
       " array([ -327., -2085.]),\n",
       " array([ -327., -2094.]),\n",
       " array([ -327., -2103.]),\n",
       " array([ -327., -2113.]),\n",
       " array([ -327., -2122.]),\n",
       " array([ -327., -2131.]),\n",
       " array([ -327., -2140.]),\n",
       " array([ -327., -2149.]),\n",
       " array([ -327., -2159.]),\n",
       " array([ -327., -2168.]),\n",
       " array([ -327., -2177.]),\n",
       " array([ -327., -2186.]),\n",
       " array([ -327., -2195.]),\n",
       " array([ -327., -2205.]),\n",
       " array([ -327., -2214.]),\n",
       " array([ -327., -2223.]),\n",
       " array([ -327., -2232.]),\n",
       " array([ -327., -2242.]),\n",
       " array([ -327., -2251.]),\n",
       " array([ -327., -2260.]),\n",
       " array([ -327., -2269.]),\n",
       " array([ -327., -2278.]),\n",
       " array([ -327., -2288.]),\n",
       " array([ -327., -2297.]),\n",
       " array([ -327., -2306.]),\n",
       " array([ -327., -2315.]),\n",
       " array([ -327., -2324.]),\n",
       " array([ -327., -2334.]),\n",
       " array([ -327., -2343.]),\n",
       " array([ -328., -2352.]),\n",
       " array([ -328., -2361.]),\n",
       " array([ -328., -2371.]),\n",
       " array([ -328., -2380.]),\n",
       " array([ -328., -2389.]),\n",
       " array([ -328., -2398.]),\n",
       " array([ -328., -2407.]),\n",
       " array([ -328., -2417.]),\n",
       " array([ -328., -2426.]),\n",
       " array([ -328., -2435.]),\n",
       " array([ -328., -2444.]),\n",
       " array([ -328., -2453.]),\n",
       " array([ -328., -2463.]),\n",
       " array([ -328., -2472.]),\n",
       " array([ -328., -2481.]),\n",
       " array([ -328., -2490.]),\n",
       " array([ -328., -2500.]),\n",
       " array([ -328., -2509.]),\n",
       " array([ -323., -2055.]),\n",
       " array([ -323., -2064.]),\n",
       " array([ -323., -2074.]),\n",
       " array([ -323., -2083.]),\n",
       " array([ -323., -2092.]),\n",
       " array([ -323., -2101.]),\n",
       " array([ -323., -2110.]),\n",
       " array([ -323., -2120.]),\n",
       " array([ -323., -2129.]),\n",
       " array([ -323., -2138.]),\n",
       " array([ -323., -2147.]),\n",
       " array([ -323., -2157.]),\n",
       " array([ -323., -2166.]),\n",
       " array([ -323., -2175.]),\n",
       " array([ -323., -2184.]),\n",
       " array([ -323., -2193.]),\n",
       " array([ -323., -2203.]),\n",
       " array([ -323., -2212.]),\n",
       " array([ -323., -2221.]),\n",
       " array([ -323., -2230.]),\n",
       " array([ -323., -2239.]),\n",
       " array([ -323., -2249.]),\n",
       " array([ -323., -2258.]),\n",
       " array([ -323., -2267.]),\n",
       " array([ -323., -2276.]),\n",
       " array([ -323., -2286.]),\n",
       " array([ -324., -2295.]),\n",
       " array([ -324., -2304.]),\n",
       " array([ -324., -2313.]),\n",
       " array([ -324., -2322.]),\n",
       " array([ -324., -2332.]),\n",
       " array([ -324., -2341.]),\n",
       " array([ -324., -2350.]),\n",
       " array([ -324., -2359.]),\n",
       " array([ -324., -2368.]),\n",
       " array([ -324., -2378.]),\n",
       " array([ -324., -2387.]),\n",
       " array([ -324., -2396.]),\n",
       " array([ -324., -2405.]),\n",
       " array([ -324., -2415.]),\n",
       " array([ -324., -2424.]),\n",
       " array([ -324., -2433.]),\n",
       " array([ -324., -2442.]),\n",
       " array([ -324., -2451.]),\n",
       " array([ -324., -2461.]),\n",
       " array([ -324., -2470.]),\n",
       " array([ -324., -2479.]),\n",
       " array([ -324., -2488.]),\n",
       " array([ -324., -2497.]),\n",
       " array([ -324., -2507.]),\n",
       " array([ -319., -2053.]),\n",
       " array([ -319., -2062.]),\n",
       " array([ -319., -2072.]),\n",
       " array([ -319., -2081.]),\n",
       " array([ -319., -2090.]),\n",
       " array([ -319., -2099.]),\n",
       " array([ -319., -2108.]),\n",
       " array([ -319., -2118.]),\n",
       " array([ -319., -2127.]),\n",
       " array([ -319., -2136.]),\n",
       " array([ -319., -2145.]),\n",
       " array([ -319., -2154.]),\n",
       " array([ -319., -2164.]),\n",
       " array([ -319., -2173.]),\n",
       " array([ -319., -2182.]),\n",
       " array([ -319., -2191.]),\n",
       " array([ -319., -2201.]),\n",
       " array([ -319., -2210.]),\n",
       " array([ -319., -2219.]),\n",
       " array([ -319., -2228.]),\n",
       " array([ -319., -2237.]),\n",
       " array([ -320., -2247.]),\n",
       " array([ -320., -2256.]),\n",
       " array([ -320., -2265.]),\n",
       " array([ -320., -2274.]),\n",
       " array([ -320., -2283.]),\n",
       " array([ -320., -2293.]),\n",
       " array([ -320., -2302.]),\n",
       " array([ -320., -2311.]),\n",
       " array([ -320., -2320.]),\n",
       " array([ -320., -2330.]),\n",
       " array([ -320., -2339.]),\n",
       " array([ -320., -2348.]),\n",
       " array([ -320., -2357.]),\n",
       " array([ -320., -2366.]),\n",
       " array([ -320., -2376.]),\n",
       " array([ -320., -2385.]),\n",
       " array([ -320., -2394.]),\n",
       " array([ -320., -2403.]),\n",
       " array([ -320., -2412.]),\n",
       " array([ -320., -2422.]),\n",
       " array([ -320., -2431.]),\n",
       " array([ -320., -2440.]),\n",
       " array([ -320., -2449.]),\n",
       " array([ -320., -2459.]),\n",
       " array([ -320., -2468.]),\n",
       " array([ -320., -2477.]),\n",
       " array([ -320., -2486.]),\n",
       " array([ -320., -2495.]),\n",
       " array([ -320., -2505.]),\n",
       " array([ -315., -2051.]),\n",
       " array([ -315., -2060.]),\n",
       " array([ -315., -2069.]),\n",
       " array([ -315., -2079.]),\n",
       " array([ -315., -2088.]),\n",
       " array([ -315., -2097.]),\n",
       " array([ -315., -2106.]),\n",
       " array([ -315., -2116.]),\n",
       " array([ -315., -2125.]),\n",
       " array([ -315., -2134.]),\n",
       " array([ -315., -2143.]),\n",
       " array([ -315., -2152.]),\n",
       " array([ -315., -2162.]),\n",
       " array([ -315., -2171.]),\n",
       " array([ -315., -2180.]),\n",
       " array([ -316., -2189.]),\n",
       " array([ -316., -2198.]),\n",
       " array([ -316., -2208.]),\n",
       " array([ -316., -2217.]),\n",
       " array([ -316., -2226.]),\n",
       " array([ -316., -2235.]),\n",
       " array([ -316., -2245.]),\n",
       " array([ -316., -2254.]),\n",
       " array([ -316., -2263.]),\n",
       " array([ -316., -2272.]),\n",
       " array([ -316., -2281.]),\n",
       " array([ -316., -2291.]),\n",
       " array([ -316., -2300.]),\n",
       " array([ -316., -2309.]),\n",
       " array([ -316., -2318.]),\n",
       " array([ -316., -2327.]),\n",
       " array([ -316., -2337.]),\n",
       " array([ -316., -2346.]),\n",
       " array([ -316., -2355.]),\n",
       " array([ -316., -2364.]),\n",
       " array([ -316., -2374.]),\n",
       " array([ -316., -2383.]),\n",
       " array([ -316., -2392.]),\n",
       " array([ -316., -2401.]),\n",
       " array([ -316., -2410.]),\n",
       " array([ -316., -2420.]),\n",
       " array([ -316., -2429.]),\n",
       " array([ -316., -2438.]),\n",
       " array([ -316., -2447.]),\n",
       " array([ -316., -2456.]),\n",
       " array([ -316., -2466.]),\n",
       " array([ -316., -2475.]),\n",
       " array([ -316., -2484.]),\n",
       " array([ -316., -2493.]),\n",
       " array([ -316., -2503.]),\n",
       " array([ -311., -2049.]),\n",
       " array([ -311., -2058.]),\n",
       " array([ -311., -2067.]),\n",
       " array([ -311., -2077.]),\n",
       " array([ -311., -2086.]),\n",
       " array([ -311., -2095.]),\n",
       " array([ -311., -2104.]),\n",
       " array([ -311., -2113.]),\n",
       " array([ -311., -2123.]),\n",
       " array([ -311., -2132.]),\n",
       " array([ -312., -2141.]),\n",
       " array([ -312., -2150.]),\n",
       " array([ -312., -2160.]),\n",
       " array([ -312., -2169.]),\n",
       " array([ -312., -2178.]),\n",
       " array([ -312., -2187.]),\n",
       " array([ -312., -2196.]),\n",
       " array([ -312., -2206.]),\n",
       " array([ -312., -2215.]),\n",
       " array([ -312., -2224.]),\n",
       " array([ -312., -2233.]),\n",
       " array([ -312., -2242.]),\n",
       " array([ -312., -2252.]),\n",
       " array([ -312., -2261.]),\n",
       " array([ -312., -2270.]),\n",
       " array([ -312., -2279.]),\n",
       " array([ -312., -2289.]),\n",
       " array([ -312., -2298.]),\n",
       " array([ -312., -2307.]),\n",
       " array([ -312., -2316.]),\n",
       " array([ -312., -2325.]),\n",
       " array([ -312., -2335.]),\n",
       " array([ -312., -2344.]),\n",
       " array([ -312., -2353.]),\n",
       " array([ -312., -2362.]),\n",
       " array([ -312., -2371.]),\n",
       " array([ -312., -2381.]),\n",
       " array([ -312., -2390.]),\n",
       " array([ -312., -2399.]),\n",
       " array([ -312., -2408.]),\n",
       " array([ -312., -2418.]),\n",
       " array([ -312., -2427.]),\n",
       " array([ -312., -2436.]),\n",
       " array([ -312., -2445.]),\n",
       " array([ -312., -2454.]),\n",
       " array([ -312., -2464.]),\n",
       " array([ -312., -2473.]),\n",
       " array([ -312., -2482.]),\n",
       " array([ -312., -2491.]),\n",
       " array([ -312., -2500.]),\n",
       " array([ -307., -2047.]),\n",
       " array([ -307., -2056.]),\n",
       " array([ -307., -2065.]),\n",
       " array([ -307., -2075.]),\n",
       " array([ -308., -2084.]),\n",
       " array([ -308., -2093.]),\n",
       " array([ -308., -2102.]),\n",
       " array([ -308., -2111.]),\n",
       " array([ -308., -2121.]),\n",
       " array([ -308., -2130.]),\n",
       " array([ -308., -2139.]),\n",
       " array([ -308., -2148.]),\n",
       " array([ -308., -2157.]),\n",
       " array([ -308., -2167.]),\n",
       " array([ -308., -2176.]),\n",
       " array([ -308., -2185.]),\n",
       " array([ -308., -2194.]),\n",
       " array([ -308., -2204.]),\n",
       " array([ -308., -2213.]),\n",
       " array([ -308., -2222.]),\n",
       " array([ -308., -2231.]),\n",
       " array([ -308., -2240.]),\n",
       " array([ -308., -2250.]),\n",
       " array([ -308., -2259.]),\n",
       " array([ -308., -2268.]),\n",
       " array([ -308., -2277.]),\n",
       " array([ -308., -2286.]),\n",
       " array([ -308., -2296.]),\n",
       " array([ -308., -2305.]),\n",
       " array([ -308., -2314.]),\n",
       " array([ -308., -2323.]),\n",
       " array([ -308., -2333.]),\n",
       " array([ -308., -2342.]),\n",
       " array([ -308., -2351.]),\n",
       " array([ -308., -2360.]),\n",
       " array([ -308., -2369.]),\n",
       " array([ -308., -2379.]),\n",
       " array([ -308., -2388.]),\n",
       " array([ -308., -2397.]),\n",
       " array([ -308., -2406.]),\n",
       " array([ -308., -2415.]),\n",
       " array([ -308., -2425.]),\n",
       " array([ -308., -2434.]),\n",
       " array([ -308., -2443.]),\n",
       " array([ -308., -2452.]),\n",
       " array([ -308., -2462.]),\n",
       " array([ -308., -2471.]),\n",
       " array([ -308., -2480.]),\n",
       " array([ -308., -2489.]),\n",
       " array([ -308., -2498.]),\n",
       " array([ -304., -2045.]),\n",
       " array([ -304., -2054.]),\n",
       " array([ -304., -2063.]),\n",
       " array([ -304., -2072.]),\n",
       " array([ -304., -2082.]),\n",
       " array([ -304., -2091.]),\n",
       " array([ -304., -2100.]),\n",
       " array([ -304., -2109.]),\n",
       " array([ -304., -2119.]),\n",
       " array([ -304., -2128.]),\n",
       " array([ -304., -2137.]),\n",
       " array([ -304., -2146.]),\n",
       " array([ -304., -2155.]),\n",
       " array([ -304., -2165.]),\n",
       " array([ -304., -2174.]),\n",
       " array([ -304., -2183.]),\n",
       " array([ -304., -2192.]),\n",
       " array([ -304., -2201.]),\n",
       " array([ -304., -2211.]),\n",
       " array([ -304., -2220.]),\n",
       " array([ -304., -2229.]),\n",
       " array([ -304., -2238.]),\n",
       " array([ -304., -2248.]),\n",
       " array([ -304., -2257.]),\n",
       " array([ -304., -2266.]),\n",
       " array([ -304., -2275.]),\n",
       " array([ -304., -2284.]),\n",
       " array([ -304., -2294.]),\n",
       " array([ -304., -2303.]),\n",
       " array([ -304., -2312.]),\n",
       " array([ -304., -2321.]),\n",
       " array([ -304., -2330.]),\n",
       " array([ -304., -2340.]),\n",
       " array([ -304., -2349.]),\n",
       " array([ -304., -2358.]),\n",
       " array([ -304., -2367.]),\n",
       " array([ -304., -2377.]),\n",
       " array([ -304., -2386.]),\n",
       " array([ -304., -2395.]),\n",
       " array([ -304., -2404.]),\n",
       " array([ -304., -2413.]),\n",
       " array([ -304., -2423.]),\n",
       " array([ -304., -2432.]),\n",
       " array([ -304., -2441.]),\n",
       " array([ -304., -2450.]),\n",
       " array([ -304., -2459.]),\n",
       " array([ -304., -2469.]),\n",
       " array([ -304., -2478.]),\n",
       " array([ -304., -2487.]),\n",
       " array([ -304., -2496.]),\n",
       " array([ -300., -2043.]),\n",
       " array([ -300., -2052.]),\n",
       " array([ -300., -2061.]),\n",
       " array([ -300., -2070.]),\n",
       " array([ -300., -2080.]),\n",
       " array([ -300., -2089.]),\n",
       " array([ -300., -2098.]),\n",
       " array([ -300., -2107.]),\n",
       " array([ -300., -2116.]),\n",
       " array([ -300., -2126.]),\n",
       " array([ -300., -2135.]),\n",
       " array([ -300., -2144.]),\n",
       " array([ -300., -2153.]),\n",
       " array([ -300., -2163.]),\n",
       " array([ -300., -2172.]),\n",
       " array([ -300., -2181.]),\n",
       " array([ -300., -2190.]),\n",
       " array([ -300., -2199.]),\n",
       " array([ -300., -2209.]),\n",
       " array([ -300., -2218.]),\n",
       " array([ -300., -2227.]),\n",
       " array([ -300., -2236.]),\n",
       " array([ -300., -2245.]),\n",
       " array([ -300., -2255.]),\n",
       " array([ -300., -2264.]),\n",
       " array([ -300., -2273.]),\n",
       " array([ -300., -2282.]),\n",
       " array([ -300., -2292.]),\n",
       " array([ -300., -2301.]),\n",
       " array([ -300., -2310.]),\n",
       " array([ -300., -2319.]),\n",
       " array([ -300., -2328.]),\n",
       " array([ -300., -2338.]),\n",
       " array([ -300., -2347.]),\n",
       " array([ -300., -2356.]),\n",
       " array([ -300., -2365.]),\n",
       " array([ -300., -2374.]),\n",
       " array([ -300., -2384.]),\n",
       " array([ -300., -2393.]),\n",
       " array([ -300., -2402.]),\n",
       " array([ -300., -2411.]),\n",
       " array([ -300., -2421.]),\n",
       " array([ -300., -2430.]),\n",
       " array([ -300., -2439.]),\n",
       " array([ -300., -2448.]),\n",
       " array([ -300., -2457.]),\n",
       " array([ -300., -2467.]),\n",
       " array([ -300., -2476.]),\n",
       " array([ -300., -2485.]),\n",
       " array([ -300., -2494.]),\n",
       " array([ -296., -2041.]),\n",
       " array([ -296., -2050.]),\n",
       " array([ -296., -2059.]),\n",
       " array([ -296., -2068.]),\n",
       " array([ -296., -2078.]),\n",
       " array([ -296., -2087.]),\n",
       " array([ -296., -2096.]),\n",
       " array([ -296., -2105.]),\n",
       " array([ -296., -2114.]),\n",
       " array([ -296., -2124.]),\n",
       " array([ -296., -2133.]),\n",
       " array([ -296., -2142.]),\n",
       " array([ -296., -2151.]),\n",
       " array([ -296., -2160.]),\n",
       " array([ -296., -2170.]),\n",
       " array([ -296., -2179.]),\n",
       " array([ -296., -2188.]),\n",
       " array([ -296., -2197.]),\n",
       " array([ -296., -2207.]),\n",
       " array([ -296., -2216.]),\n",
       " array([ -296., -2225.]),\n",
       " array([ -296., -2234.]),\n",
       " array([ -296., -2243.]),\n",
       " array([ -296., -2253.]),\n",
       " array([ -296., -2262.]),\n",
       " array([ -296., -2271.]),\n",
       " array([ -296., -2280.]),\n",
       " array([ -296., -2289.]),\n",
       " array([ -296., -2299.]),\n",
       " array([ -296., -2308.]),\n",
       " array([ -296., -2317.]),\n",
       " array([ -296., -2326.]),\n",
       " array([ -296., -2336.]),\n",
       " array([ -296., -2345.]),\n",
       " array([ -296., -2354.]),\n",
       " array([ -296., -2363.]),\n",
       " array([ -296., -2372.]),\n",
       " array([ -296., -2382.]),\n",
       " array([ -296., -2391.]),\n",
       " array([ -296., -2400.]),\n",
       " array([ -296., -2409.]),\n",
       " array([ -296., -2418.]),\n",
       " array([ -296., -2428.]),\n",
       " array([ -296., -2437.]),\n",
       " array([ -296., -2446.]),\n",
       " array([ -296., -2455.]),\n",
       " array([ -296., -2465.]),\n",
       " array([ -296., -2474.]),\n",
       " array([ -296., -2483.]),\n",
       " array([ -296., -2492.]),\n",
       " array([ -292., -2039.]),\n",
       " array([ -292., -2048.]),\n",
       " array([ -292., -2057.]),\n",
       " array([ -292., -2066.]),\n",
       " array([ -292., -2075.]),\n",
       " array([ -292., -2085.]),\n",
       " array([ -292., -2094.]),\n",
       " array([ -292., -2103.]),\n",
       " array([ -292., -2112.]),\n",
       " array([ -292., -2122.]),\n",
       " array([ -292., -2131.]),\n",
       " array([ -292., -2140.]),\n",
       " array([ -292., -2149.]),\n",
       " array([ -292., -2158.]),\n",
       " array([ -292., -2168.]),\n",
       " array([ -292., -2177.]),\n",
       " array([ -292., -2186.]),\n",
       " array([ -292., -2195.]),\n",
       " array([ -292., -2204.]),\n",
       " array([ -292., -2214.]),\n",
       " array([ -292., -2223.]),\n",
       " array([ -292., -2232.]),\n",
       " array([ -292., -2241.]),\n",
       " array([ -292., -2251.]),\n",
       " array([ -292., -2260.]),\n",
       " array([ -292., -2269.]),\n",
       " array([ -292., -2278.]),\n",
       " array([ -292., -2287.]),\n",
       " array([ -292., -2297.]),\n",
       " array([ -292., -2306.]),\n",
       " array([ -292., -2315.]),\n",
       " array([ -292., -2324.]),\n",
       " array([ -292., -2333.]),\n",
       " array([ -292., -2343.]),\n",
       " array([ -292., -2352.]),\n",
       " array([ -292., -2361.]),\n",
       " array([ -292., -2370.]),\n",
       " array([ -292., -2380.]),\n",
       " array([ -292., -2389.]),\n",
       " array([ -292., -2398.]),\n",
       " array([ -292., -2407.]),\n",
       " array([ -292., -2416.]),\n",
       " array([ -292., -2426.]),\n",
       " array([ -292., -2435.]),\n",
       " array([ -292., -2444.]),\n",
       " array([ -292., -2453.]),\n",
       " array([ -292., -2462.]),\n",
       " array([ -292., -2472.]),\n",
       " array([ -292., -2481.]),\n",
       " array([ -293., -2490.]),\n",
       " array([ -288., -2037.]),\n",
       " array([ -288., -2046.]),\n",
       " array([ -288., -2055.]),\n",
       " array([ -288., -2064.]),\n",
       " array([ -288., -2073.]),\n",
       " array([ -288., -2083.]),\n",
       " array([ -288., -2092.]),\n",
       " array([ -288., -2101.]),\n",
       " array([ -288., -2110.]),\n",
       " array([ -288., -2119.]),\n",
       " array([ -288., -2129.]),\n",
       " array([ -288., -2138.]),\n",
       " array([ -288., -2147.]),\n",
       " array([ -288., -2156.]),\n",
       " array([ -288., -2166.]),\n",
       " array([ -288., -2175.]),\n",
       " array([ -288., -2184.]),\n",
       " array([ -288., -2193.]),\n",
       " array([ -288., -2202.]),\n",
       " array([ -288., -2212.]),\n",
       " array([ -288., -2221.]),\n",
       " array([ -288., -2230.]),\n",
       " array([ -288., -2239.]),\n",
       " array([ -288., -2248.]),\n",
       " array([ -288., -2258.]),\n",
       " array([ -288., -2267.]),\n",
       " array([ -288., -2276.]),\n",
       " array([ -288., -2285.]),\n",
       " array([ -288., -2295.]),\n",
       " array([ -288., -2304.]),\n",
       " array([ -288., -2313.]),\n",
       " array([ -288., -2322.]),\n",
       " array([ -288., -2331.]),\n",
       " array([ -288., -2341.]),\n",
       " array([ -288., -2350.]),\n",
       " array([ -288., -2359.]),\n",
       " array([ -288., -2368.]),\n",
       " array([ -288., -2377.]),\n",
       " array([ -288., -2387.]),\n",
       " array([ -288., -2396.]),\n",
       " array([ -288., -2405.]),\n",
       " array([ -288., -2414.]),\n",
       " array([ -288., -2424.]),\n",
       " array([ -288., -2433.]),\n",
       " array([ -289., -2442.]),\n",
       " array([ -289., -2451.]),\n",
       " array([ -289., -2460.]),\n",
       " array([ -289., -2470.]),\n",
       " array([ -289., -2479.]),\n",
       " array([ -289., -2488.]),\n",
       " ...]"
      ]
     },
     "execution_count": 80,
     "metadata": {},
     "output_type": "execute_result"
    }
   ],
   "source": [
    "results"
   ]
  },
  {
   "cell_type": "code",
   "execution_count": 81,
   "id": "a3549b93",
   "metadata": {},
   "outputs": [
    {
     "data": {
      "text/plain": [
       "(125000, 2)"
      ]
     },
     "execution_count": 81,
     "metadata": {},
     "output_type": "execute_result"
    }
   ],
   "source": [
    "np.array(results).shape"
   ]
  },
  {
   "cell_type": "code",
   "execution_count": 82,
   "id": "56fd385c",
   "metadata": {},
   "outputs": [
    {
     "data": {
      "text/plain": [
       "np.float64(363.0)"
      ]
     },
     "execution_count": 82,
     "metadata": {},
     "output_type": "execute_result"
    }
   ],
   "source": [
    "np.max(np.unique(results, axis=0))"
   ]
  },
  {
   "cell_type": "code",
   "execution_count": 278,
   "id": "9547beb6",
   "metadata": {},
   "outputs": [],
   "source": [
    "Ps = []\n",
    "for i in range(camera_data.nr_cameras):\n",
    "    P = camera_data.P(i)\n",
    "    Ps.append(P)\n",
    "Ps = np.array(Ps)"
   ]
  },
  {
   "cell_type": "code",
   "execution_count": 279,
   "id": "7e0b70cb",
   "metadata": {},
   "outputs": [],
   "source": [
    "def estimate_extent(Ps, image_size, near=0.1, far=2.0):\n",
    "    W, H = image_size\n",
    "    corners_2d = np.array([[0,0], [W,0], [0,H], [W,H]])\n",
    "    pts_world = []\n",
    "\n",
    "    for P in Ps:\n",
    "        # camera center (null space of P)\n",
    "        _, _, Vt = np.linalg.svd(P)\n",
    "        C = Vt[-1]\n",
    "        C = C[:3] / C[3]\n",
    "\n",
    "        # direction vectors for each corner ray\n",
    "        KRt = P[:, :3]\n",
    "        dirs = []\n",
    "        for (u,v) in corners_2d:\n",
    "            ray_cam = np.linalg.inv(KRt) @ np.array([u, v, 1.0])\n",
    "            ray_cam /= np.linalg.norm(ray_cam)\n",
    "            dirs.append(ray_cam)\n",
    "\n",
    "        dirs = np.stack(dirs)\n",
    "        # generate near/far points\n",
    "        for d in dirs:\n",
    "            pts_world.append(C + d * near)\n",
    "            pts_world.append(C + d * far)\n",
    "\n",
    "    pts_world = np.stack(pts_world)\n",
    "    return pts_world.min(axis=0), pts_world.max(axis=0)\n"
   ]
  },
  {
   "cell_type": "code",
   "execution_count": 280,
   "id": "9525b532",
   "metadata": {},
   "outputs": [
    {
     "data": {
      "text/plain": [
       "(array([-1.17937123,  0.06638487, -2.18180192]),\n",
       " array([1.17907361, 1.93505969, 0.13677393]))"
      ]
     },
     "execution_count": 280,
     "metadata": {},
     "output_type": "execute_result"
    }
   ],
   "source": [
    "estimate_extent(Ps, scans.scan_shape)"
   ]
  },
  {
   "cell_type": "code",
   "execution_count": null,
   "id": "d19c7742",
   "metadata": {},
   "outputs": [],
   "source": [
    "# GENERATE GRID OF 3D POINTS\n",
    "# [-3.00377579  8.34666504  0.8688871 ]\n",
    "# [-0.15053548 -3.24618854  1.04613727]\n",
    "resolution = 50\n",
    "range_value = 1.5\n",
    "x_range = np.linspace(-range_value, range_value, resolution)\n",
    "y_range = np.linspace(-range_value, range_value, resolution)\n",
    "z_range = np.linspace(-range_value, range_value, resolution)\n",
    "\n",
    "X, Y, Z = np.meshgrid(x_range, y_range, z_range)"
   ]
  }
 ],
 "metadata": {
  "kernelspec": {
   "display_name": "3d-reconstruction-py3.13",
   "language": "python",
   "name": "python3"
  },
  "language_info": {
   "codemirror_mode": {
    "name": "ipython",
    "version": 3
   },
   "file_extension": ".py",
   "mimetype": "text/x-python",
   "name": "python",
   "nbconvert_exporter": "python",
   "pygments_lexer": "ipython3",
   "version": "3.13.7"
  }
 },
 "nbformat": 4,
 "nbformat_minor": 5
}
