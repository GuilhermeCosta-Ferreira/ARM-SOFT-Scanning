{
 "cells": [
  {
   "cell_type": "markdown",
   "id": "9053373f",
   "metadata": {},
   "source": [
    "# 3D Reconstruction\n",
    "Now that we have the silhuettes we can now extract the visual hull of the object. Do so we need the camera intrinsic parameters and the extrinsic paramters. Our simulation pipeline already provides us with a json file for that."
   ]
  },
  {
   "cell_type": "code",
   "execution_count": 16,
   "id": "c63701ac",
   "metadata": {},
   "outputs": [],
   "source": [
    "import json\n",
    "\n",
    "import numpy as np"
   ]
  },
  {
   "cell_type": "code",
   "execution_count": null,
   "id": "6f3b68be",
   "metadata": {},
   "outputs": [],
   "source": [
    "class CamerasData:\n",
    "    def __init__(self, intrinsic_path: str, extrinsic_path: str):\n",
    "        # Store the paths\n",
    "        self.intrinsic_path = intrinsic_path\n",
    "        self.extrinsic_path = extrinsic_path\n",
    "\n",
    "        # extract the json data\n",
    "        self.intrinsic_data, self.extrinsic_data = self.load_data()\n",
    "\n",
    "        # unpack the transformation matrices\n",
    "        self.extrinsic_matrices = self.extract_extrinsic_matrices()\n",
    "\n",
    "    def load_data(self) -> tuple[dict, dict]:\n",
    "        with open(self.intrinsic_path, 'r') as f:\n",
    "            intrinsic_data = json.load(f)\n",
    "        with open(self.extrinsic_path, 'r') as f:\n",
    "            extrinsic_data = json.load(f)\n",
    "        return (intrinsic_data, extrinsic_data)\n",
    "\n",
    "    def extract_extrinsic_matrices(self) -> np.ndarray:\n",
    "        # Unpacks the data from the json file into a numpy array\n",
    "        array_data = self.extrinsic_data[\"frames\"]\n",
    "        transformation_matrices = []\n",
    "\n",
    "        # Loop over each camera and extract the transformation matrix\n",
    "        for cam in array_data:\n",
    "            matrix_data = np.array(cam[\"transform_matrix\"])\n",
    "            transformation_matrices.append(matrix_data)\n",
    "\n",
    "        # Convert to a numpy array\n",
    "        return np.array(transformation_matrices)"
   ]
  },
  {
   "cell_type": "code",
   "execution_count": 55,
   "id": "98bc07d7",
   "metadata": {},
   "outputs": [],
   "source": [
    "camera_data = CamerasData(\"../blender_simulator/simulated_frames/dataset_d30/transforms_train.json\", \"../blender_simulator/simulated_frames/dataset_d30/transforms_train.json\")"
   ]
  },
  {
   "cell_type": "code",
   "execution_count": null,
   "id": "df422486",
   "metadata": {},
   "outputs": [],
   "source": [
    "trf_mt = camera_data.extract_extrinsic_matrices()"
   ]
  },
  {
   "cell_type": "code",
   "execution_count": 52,
   "id": "b91ecb4d",
   "metadata": {},
   "outputs": [
    {
     "data": {
      "text/plain": [
       "12"
      ]
     },
     "execution_count": 52,
     "metadata": {},
     "output_type": "execute_result"
    }
   ],
   "source": [
    "len(trf_mt)"
   ]
  },
  {
   "cell_type": "code",
   "execution_count": 53,
   "id": "5b4a04d1",
   "metadata": {},
   "outputs": [
    {
     "data": {
      "text/plain": [
       "array([[ 9.99992847e-01,  5.45056282e-05,  3.79700959e-03,\n",
       "         0.00000000e+00],\n",
       "       [ 3.79740074e-03, -1.43533014e-02, -9.99889851e-01,\n",
       "        -1.00000000e+00],\n",
       "       [-3.63797881e-12,  9.99897003e-01, -1.43534066e-02,\n",
       "         0.00000000e+00],\n",
       "       [ 0.00000000e+00,  0.00000000e+00,  0.00000000e+00,\n",
       "         1.00000000e+00]])"
      ]
     },
     "execution_count": 53,
     "metadata": {},
     "output_type": "execute_result"
    }
   ],
   "source": [
    "trf_mt[0]"
   ]
  },
  {
   "cell_type": "code",
   "execution_count": null,
   "id": "f7adf860",
   "metadata": {},
   "outputs": [
    {
     "data": {
      "text/plain": [
       "[array([[ 9.99992847e-01,  5.45056282e-05,  3.79700959e-03,\n",
       "          0.00000000e+00],\n",
       "        [ 3.79740074e-03, -1.43533014e-02, -9.99889851e-01,\n",
       "         -1.00000000e+00],\n",
       "        [-3.63797881e-12,  9.99897003e-01, -1.43534066e-02,\n",
       "          0.00000000e+00],\n",
       "        [ 0.00000000e+00,  0.00000000e+00,  0.00000000e+00,\n",
       "          1.00000000e+00]]),\n",
       " array([[ 8.61065686e-01, -7.28784548e-03, -5.08441567e-01,\n",
       "         -4.99882162e-01],\n",
       "        [-5.08493781e-01, -1.23409843e-02, -8.60977232e-01,\n",
       "         -8.65877032e-01],\n",
       "        [-4.65661287e-10,  9.99897361e-01, -1.43322209e-02,\n",
       "          0.00000000e+00],\n",
       "        [ 0.00000000e+00,  0.00000000e+00,  0.00000000e+00,\n",
       "          1.00000000e+00]]),\n",
       " array([[ 0.48193851, -0.01245331, -0.87611651, -0.86587703],\n",
       "        [-0.87620503, -0.00684969, -0.48188984, -0.49988216],\n",
       "        [ 0.        ,  0.99989909, -0.01421278,  0.        ],\n",
       "        [ 0.        ,  0.        ,  0.        ,  1.        ]]),\n",
       " array([[-2.57461872e-02, -1.40279029e-02, -9.99570131e-01,\n",
       "         -1.00000000e+00],\n",
       "        [-9.99668479e-01,  3.61284794e-04,  2.57436559e-02,\n",
       "          0.00000000e+00],\n",
       "        [ 0.00000000e+00,  9.99901533e-01, -1.40325557e-02,\n",
       "          0.00000000e+00],\n",
       "        [ 0.00000000e+00,  0.00000000e+00,  0.00000000e+00,\n",
       "          1.00000000e+00]]),\n",
       " array([[-5.20480335e-01, -1.18266791e-02, -8.53791773e-01,\n",
       "         -8.65877032e-01],\n",
       "        [-8.53873670e-01,  7.20897410e-03,  5.20430386e-01,\n",
       "          4.99882162e-01],\n",
       "        [-4.65661287e-10,  9.99904096e-01, -1.38506182e-02,\n",
       "          0.00000000e+00],\n",
       "        [ 0.00000000e+00,  0.00000000e+00,  0.00000000e+00,\n",
       "          1.00000000e+00]]),\n",
       " array([[-8.73789310e-01, -6.66574761e-03, -4.86259103e-01,\n",
       "         -4.99881983e-01],\n",
       "        [-4.86304790e-01,  1.19769722e-02,  8.73707235e-01,\n",
       "          8.65877151e-01],\n",
       "        [-4.65661287e-10,  9.99906063e-01, -1.37069356e-02,\n",
       "          0.00000000e+00],\n",
       "        [ 0.00000000e+00,  0.00000000e+00,  0.00000000e+00,\n",
       "          1.00000000e+00]]),\n",
       " array([[-9.99993503e-01,  4.91914470e-05,  3.60729732e-03,\n",
       "          2.38341755e-07],\n",
       "        [ 3.60763283e-03,  1.36352926e-02,  9.99900520e-01,\n",
       "          1.00000000e+00],\n",
       "        [ 0.00000000e+00,  9.99907076e-01, -1.36353802e-02,\n",
       "          0.00000000e+00],\n",
       "        [ 0.00000000e+00,  0.00000000e+00,  0.00000000e+00,\n",
       "          1.00000000e+00]]),\n",
       " array([[-8.70700896e-01,  6.71742717e-03,  4.91767138e-01,\n",
       "          4.99881983e-01],\n",
       "        [ 4.91813064e-01,  1.18924668e-02,  8.70619655e-01,\n",
       "          8.65877151e-01],\n",
       "        [-4.65661287e-10,  9.99906778e-01, -1.36584975e-02,\n",
       "          0.00000000e+00],\n",
       "        [ 0.00000000e+00,  0.00000000e+00,  0.00000000e+00,\n",
       "          1.00000000e+00]]),\n",
       " array([[-0.51723963,  0.01178013,  0.85575956,  0.86587715],\n",
       "        [ 0.85584074,  0.00711949,  0.51719058,  0.49988198],\n",
       "        [ 0.        ,  0.99990529, -0.0137644 ,  0.        ],\n",
       "        [ 0.        ,  0.        ,  0.        ,  1.        ]]),\n",
       " array([[-2.55564954e-02,  1.39246341e-02,  9.99576390e-01,\n",
       "          1.00000000e+00],\n",
       "        [ 9.99673426e-01,  3.55981116e-04,  2.55540144e-02,\n",
       "          0.00000000e+00],\n",
       "        [-2.91038305e-11,  9.99903023e-01, -1.39291836e-02,\n",
       "          0.00000000e+00],\n",
       "        [ 0.00000000e+00,  0.00000000e+00,  0.00000000e+00,\n",
       "          1.00000000e+00]]),\n",
       " array([[ 4.78780776e-01,  1.23961437e-02,  8.77847075e-01,\n",
       "          8.65876913e-01],\n",
       "        [ 8.77934575e-01, -6.76022470e-03, -4.78733063e-01,\n",
       "         -4.99882400e-01],\n",
       "        [-4.65661232e-10,  9.99900401e-01, -1.41196670e-02,\n",
       "          0.00000000e+00],\n",
       "        [ 0.00000000e+00,  0.00000000e+00,  0.00000000e+00,\n",
       "          1.00000000e+00]]),\n",
       " array([[ 0.85774016,  0.00733951,  0.51403105,  0.49988157],\n",
       "        [ 0.51408345, -0.01224585, -0.85765278, -0.86587739],\n",
       "        [ 0.        ,  0.99989808, -0.01427688,  0.        ],\n",
       "        [ 0.        ,  0.        ,  0.        ,  1.        ]])]"
      ]
     },
     "execution_count": 56,
     "metadata": {},
     "output_type": "execute_result"
    }
   ],
   "source": [
    "camera_data.extrinsic_matrices"
   ]
  },
  {
   "cell_type": "code",
   "execution_count": null,
   "id": "f36d2a68",
   "metadata": {},
   "outputs": [],
   "source": []
  }
 ],
 "metadata": {
  "kernelspec": {
   "display_name": "3d-reconstruction-py3.13",
   "language": "python",
   "name": "python3"
  },
  "language_info": {
   "codemirror_mode": {
    "name": "ipython",
    "version": 3
   },
   "file_extension": ".py",
   "mimetype": "text/x-python",
   "name": "python",
   "nbconvert_exporter": "python",
   "pygments_lexer": "ipython3",
   "version": "3.13.7"
  }
 },
 "nbformat": 4,
 "nbformat_minor": 5
}
